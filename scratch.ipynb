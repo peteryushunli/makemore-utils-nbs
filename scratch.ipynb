{
 "cells": [
  {
   "cell_type": "code",
   "execution_count": null,
   "metadata": {},
   "outputs": [],
   "source": [
    "## Platt scaling example"
   ]
  },
  {
   "cell_type": "code",
   "execution_count": null,
   "metadata": {},
   "outputs": [],
   "source": [
    "import numpy as np\n",
    "from torch.nn import functional as F\n",
    "import torch\n",
    "\n",
    "# Generate 5 random numbers between 0 and 1 using NumPy\n",
    "logits = torch.tensor([0.2, 0.05, 0.7])\n",
    "print(logits)"
   ]
  },
  {
   "cell_type": "code",
   "execution_count": null,
   "metadata": {},
   "outputs": [],
   "source": [
    "probs = F.softmax(logits, dim=-1)\n",
    "probs"
   ]
  },
  {
   "cell_type": "code",
   "execution_count": null,
   "metadata": {},
   "outputs": [],
   "source": [
    "scaled_logits = logits/2.\n",
    "scaled_probs = F.softmax(scaled_logits, dim=-1)\n",
    "scaled_probs"
   ]
  },
  {
   "cell_type": "code",
   "execution_count": null,
   "metadata": {},
   "outputs": [],
   "source": [
    "x = torch.linspace(-10,10,1000)\n",
    "\n",
    "logits_x1 = 1./(1+torch.exp(x.view(1,1000)*probs.view(3,1)))\n",
    "logits_scaled_x1 = 1./(1+torch.exp(x.view(1,1000)*scaled_probs.view(3,1)))"
   ]
  },
  {
   "cell_type": "code",
   "execution_count": null,
   "metadata": {},
   "outputs": [],
   "source": [
    "import matplotlib.pyplot as plt\n",
    "plt.plot(x, logits_x1[0,:])\n",
    "plt.plot(x, logits_x1[1,:])\n",
    "plt.plot(x, logits_x1[2,:])\n",
    "plt.plot(x, logits_scaled_x1[0,:],'--')\n",
    "plt.plot(x, logits_scaled_x1[1,:],'--')\n",
    "plt.plot(x, logits_scaled_x1[2,:],'--')"
   ]
  },
  {
   "cell_type": "code",
   "execution_count": null,
   "metadata": {},
   "outputs": [],
   "source": []
  }
 ],
 "metadata": {
  "kernelspec": {
   "display_name": "Python 3",
   "language": "python",
   "name": "python3"
  },
  "language_info": {
   "codemirror_mode": {
    "name": "ipython",
    "version": 3
   },
   "file_extension": ".py",
   "mimetype": "text/x-python",
   "name": "python",
   "nbconvert_exporter": "python",
   "pygments_lexer": "ipython3",
   "version": "3.10.13"
  }
 },
 "nbformat": 4,
 "nbformat_minor": 2
}
