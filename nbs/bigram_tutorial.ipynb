{
 "cells": [
  {
   "cell_type": "markdown",
   "metadata": {},
   "source": [
    "# Import libraries"
   ]
  },
  {
   "cell_type": "code",
   "execution_count": null,
   "metadata": {},
   "outputs": [],
   "source": [
    "%load_ext autoreload\n",
    "%autoreload 2\n",
    "import sys\n",
    "sys.path.append('/Users/shwetank/code/makemore-utils-nbs')\n",
    "from utils import create_dataset, evaluate_loss, generate\n",
    "from torch.optim import Adam\n",
    "import random\n",
    "from models import Bigram\n",
    "from sklearn.manifold import TSNE\n",
    "import numpy as np\n",
    "import torch\n",
    "import math"
   ]
  },
  {
   "cell_type": "markdown",
   "metadata": {},
   "source": [
    "# Check if accelerator is available on your system "
   ]
  },
  {
   "cell_type": "code",
   "execution_count": null,
   "metadata": {},
   "outputs": [],
   "source": [
    "# Setup device - check if accelerator is available\n",
    "# Check if CUDA is available\n",
    "if torch.cuda.is_available():\n",
    "    device = torch.device(\"cuda\")\n",
    "else:\n",
    "    # Check if MPS is available\n",
    "    if torch.backends.mps.is_available():\n",
    "        device = torch.device(\"mps\")\n",
    "    else:\n",
    "        # Fall back to CPU\n",
    "        device = torch.device(\"cpu\")\n",
    "\n",
    "print(\"Device selected:\", device)"
   ]
  },
  {
   "cell_type": "markdown",
   "metadata": {},
   "source": [
    "# Read the data and create training and validation sets"
   ]
  },
  {
   "cell_type": "code",
   "execution_count": null,
   "metadata": {},
   "outputs": [],
   "source": [
    "## Read file and create training and validation sets\n",
    "names, vocab, max_length = create_dataset('../names.txt')\n",
    "# print(len(names), vocab, max_length)\n",
    "seed_value = 42\n",
    "random.seed(seed_value)\n",
    "n1 = int(0.9*len(names))\n",
    "\n",
    "## Add stop token\n",
    "names = ['.' + n + '.' for n in names]\n",
    "\n",
    "## Check that dataset is shuffled\n",
    "random.shuffle(names)\n",
    "# print(names[0:5], names_ss[0:5]) \n",
    "train_data = names[:n1]\n",
    "val_data = names[n1:]\n",
    "\n",
    "print(train_data[0:5])\n",
    "print(val_data[0:5])"
   ]
  },
  {
   "cell_type": "markdown",
   "metadata": {},
   "source": [
    "# Create a character level tokenizer - simplest version of what is possible"
   ]
  },
  {
   "cell_type": "code",
   "execution_count": null,
   "metadata": {},
   "outputs": [],
   "source": [
    "# Create functions to encode and decode the string data to torch tensor and back\n",
    "stoi = {s: i+1 for i, s in enumerate(vocab)} \n",
    "stoi['.'] = 0\n",
    "itos = {i:s for s,i in stoi.items()}\n",
    "print(itos)\n",
    "print(stoi)"
   ]
  },
  {
   "cell_type": "code",
   "execution_count": null,
   "metadata": {},
   "outputs": [],
   "source": [
    "def encode(text_batch: list) -> list:\n",
    "    tokens = []\n",
    "    for ridx, row in enumerate(text_batch):\n",
    "        # Convert row to indices, with padding or truncation as necessary\n",
    "        row_indices = [stoi[r] for r in row][:max_length]\n",
    "        tokens.append(row_indices)\n",
    "    \n",
    "    return tokens\n",
    "\n",
    "def decode(token_batch: list) -> list:\n",
    "    text_batch = []\n",
    "    for row in token_batch:\n",
    "        text_batch.append(''.join(itos[r] for r in row))\n",
    "    \n",
    "    return text_batch"
   ]
  },
  {
   "cell_type": "code",
   "execution_count": null,
   "metadata": {},
   "outputs": [],
   "source": [
    "## Check encoding and decoding\n",
    "batch_size = 8\n",
    "train_batch = train_data[:batch_size]\n",
    "print(train_batch)\n",
    "print(encode(train_batch))\n",
    "print(decode(encode(train_batch)))"
   ]
  },
  {
   "cell_type": "code",
   "execution_count": null,
   "metadata": {},
   "outputs": [],
   "source": [
    "## Tokenize the train and val datasets and covert them to token indices\n",
    "encoded_train_data = encode(train_data)\n",
    "encoded_val_data = encode(val_data)"
   ]
  },
  {
   "cell_type": "markdown",
   "metadata": {},
   "source": [
    "# Create a model and run a forward pass"
   ]
  },
  {
   "cell_type": "code",
   "execution_count": null,
   "metadata": {},
   "outputs": [],
   "source": [
    "## Function to create a batch\n",
    "def get_batch(data, max_encoded_length = max_length + 2,batch_size=4):\n",
    "    x = torch.zeros(batch_size, max_encoded_length, dtype=torch.long)\n",
    "    y = torch.zeros(batch_size, max_encoded_length, dtype=torch.long)\n",
    "    # print(data)\n",
    "    row_nums = torch.randint(len(data), size=(batch_size,))\n",
    "    for i,n in enumerate(row_nums):\n",
    "        row_len = len(data[n])\n",
    "        x[i,1:1+row_len] = torch.tensor(data[n])\n",
    "        y[i,:row_len] = torch.tensor(data[n])\n",
    "        y[i,row_len:] = -1\n",
    "\n",
    "    x = x[:,1:]\n",
    "    y = y[:,1:]\n",
    "    return x.to(device),y.to(device)"
   ]
  },
  {
   "cell_type": "code",
   "execution_count": null,
   "metadata": {},
   "outputs": [],
   "source": [
    "## Print out a batch and see how it looks\n",
    "x,y  = get_batch(encoded_train_data)\n",
    "print(x)\n",
    "print(y)\n",
    "print(x.shape,y.shape)"
   ]
  },
  {
   "cell_type": "code",
   "execution_count": null,
   "metadata": {},
   "outputs": [],
   "source": [
    "## Hyperparameters\n",
    "batch_size = 64"
   ]
  },
  {
   "cell_type": "code",
   "execution_count": null,
   "metadata": {},
   "outputs": [],
   "source": [
    "## Run a forward pass\n",
    "vocab_size = len(vocab) + 1 # +1 for '.' stop character\n",
    "model = Bigram(vocab_size).to(device)\n",
    "total_params = sum(p.numel() for p in model.parameters())\n",
    "print(\"Total parameters:\", total_params)\n",
    "xb, yb = get_batch(encoded_train_data,batch_size=batch_size)\n",
    "# print(xb.shape, yb.shape)\n",
    "# print(xb)\n",
    "# print(yb)\n",
    "logits, loss = model(xb,yb)\n",
    "print('Measured loss:',loss.item())\n",
    "expected_loss = -math.log(1/26.)\n",
    "print('Expected loss assuming uniform:', expected_loss)"
   ]
  },
  {
   "cell_type": "markdown",
   "metadata": {},
   "source": [
    "# Choose a reasonable learning rate to train your model"
   ]
  },
  {
   "cell_type": "code",
   "execution_count": null,
   "metadata": {},
   "outputs": [],
   "source": [
    "# Function to do a learning rate sweep\n",
    "def get_lr_loss(model, optimizer, dataset, batch_size, num_epochs, device, lr_start_exp=-3, lr_end_exp=0.5):\n",
    "\n",
    "    lrexp = torch.linspace(lr_start_exp, lr_end_exp, num_epochs, requires_grad=False)\n",
    "    lrs_val = 10**lrexp\n",
    "\n",
    "    lri = []\n",
    "    lossi = []\n",
    "    # Training loop with mini-batches and lr sweep\n",
    "    for epoch in range(num_epochs):\n",
    "\n",
    "        ## Set learning rate\n",
    "        for g in optimizer.param_groups:\n",
    "            g['lr'] = lrs_val[epoch]\n",
    "\n",
    "        xb, yb = get_batch(dataset, batch_size=256)\n",
    "\n",
    "\n",
    "        # Forward pass\n",
    "        _, loss = model(xb, yb)\n",
    "        lri.append(lrs_val[epoch])\n",
    "        lossi.append(loss.item())\n",
    "\n",
    "        # Backward pass and optimization\n",
    "        optimizer.zero_grad()\n",
    "        loss.backward()\n",
    "        optimizer.step()\n",
    "\n",
    "    return lri, lossi"
   ]
  },
  {
   "cell_type": "code",
   "execution_count": null,
   "metadata": {},
   "outputs": [],
   "source": [
    "# Run the learning rate sweep and plot the results\n",
    "import matplotlib.pyplot as plt\n",
    "num_epochs = 100\n",
    "batch_size = 128\n",
    "optimizer = Adam(model.parameters())\n",
    "lri, lossi =  get_lr_loss(model, optimizer, encoded_train_data, batch_size, num_epochs, device, -3, 1)\n",
    "plt.plot(lri, lossi)\n",
    "# Add labels to the x-axis and y-axis\n",
    "plt.xlabel('LR (Learning Rate)')\n",
    "plt.ylabel('Loss')"
   ]
  },
  {
   "cell_type": "markdown",
   "metadata": {},
   "source": [
    "# Run a training loop"
   ]
  },
  {
   "cell_type": "code",
   "execution_count": null,
   "metadata": {},
   "outputs": [],
   "source": [
    "## Initialize loss matrices and batch size\n",
    "\n",
    "tr_loss = []\n",
    "val_loss = []\n",
    "tr_loss_raw = []\n",
    "batch_size = 128"
   ]
  },
  {
   "cell_type": "code",
   "execution_count": null,
   "metadata": {},
   "outputs": [],
   "source": [
    "## Initialize training parameters\n",
    "lr = 0.1\n",
    "optimizer = Adam(model.parameters(), lr=lr)\n",
    "n_epochs = 1000\n",
    "\n",
    "for steps in range(n_epochs):\n",
    "    xtr, ytr = get_batch(encoded_train_data, batch_size=batch_size)\n",
    "    xval, yval = get_batch(encoded_val_data, batch_size=batch_size)\n",
    "    eval_dataset = {'train': (xtr,ytr), 'val': (xval, yval)}\n",
    "    logits, loss = model(xtr,ytr)\n",
    "    optimizer.zero_grad(set_to_none=True)\n",
    "    loss.backward()\n",
    "    optimizer.step()\n",
    "    tr_lossi, val_lossi = evaluate_loss(model, eval_dataset, num_batches=16)\n",
    "    tr_loss.append(tr_lossi)\n",
    "    val_loss.append(val_lossi)\n",
    "    tr_loss_raw.append(loss.item())\n",
    "\n",
    "    ## Print losses\n",
    "    if steps % 100 == 0:\n",
    "        print(steps, ' --> train loss: ', tr_lossi, 'validation loss: ', val_lossi, 'single shot loss:', loss.item())"
   ]
  },
  {
   "cell_type": "code",
   "execution_count": null,
   "metadata": {},
   "outputs": [],
   "source": [
    "## Plot loss \n",
    "import matplotlib.pyplot as plt\n",
    "\n",
    "plt.plot(tr_loss)\n",
    "plt.plot(val_loss)\n",
    "\n",
    "print('training loss: ', round(torch.mean(torch.tensor(tr_loss[-100:])).item(),4)), \n",
    "print('validation loss: ', round((torch.mean(torch.tensor(val_loss[-100:]))).item(),4))"
   ]
  },
  {
   "cell_type": "markdown",
   "metadata": {},
   "source": [
    "# Analyze your results"
   ]
  },
  {
   "cell_type": "code",
   "execution_count": null,
   "metadata": {},
   "outputs": [],
   "source": [
    "## Function to generate tokens and decode them\n",
    "def print_samples(model, max_new_tokens, device, num=8):\n",
    "    \"\"\" samples from the model and pretty prints the decoded samples \"\"\"\n",
    "    X_init = torch.zeros((num, 1), dtype=torch.long).to(device)\n",
    "    X_samp = generate(model, X_init, max_new_tokens, device)[:,1:].tolist()\n",
    "    sample_list = []\n",
    "    for row in X_samp:\n",
    "        crop_index = row.index(0) if 0 in row else len(row)\n",
    "        row = row[:crop_index]\n",
    "        sample_list.append(row)\n",
    "\n",
    "    print(decode(sample_list))\n",
    "    "
   ]
  },
  {
   "cell_type": "code",
   "execution_count": null,
   "metadata": {},
   "outputs": [],
   "source": [
    "## Pretty print the samples\n",
    "print_samples(model, max_length, device, 8)"
   ]
  },
  {
   "cell_type": "code",
   "execution_count": null,
   "metadata": {},
   "outputs": [],
   "source": [
    "## Plot the cross correlation matrix for the embeddings - note that its asymmetric\n",
    "embeddings_matrix = model.bigram_embedding.weight.data.cpu().numpy()\n",
    "\n",
    "# Create vectors for ticklabels\n",
    "ticklabels = list(itos.values())\n",
    "ticklabels.insert(0,'stop')\n",
    "x_ticklabel_vec = np.arange(len(ticklabels))\n",
    "y_ticklabel_vec = np.arange(len(ticklabels))\n",
    "print(ticklabels)\n",
    "\n",
    "# Plot the embedding matrix as a 2D matrix plot\n",
    "plt.figure(figsize=(7,7))\n",
    "plt.imshow(embeddings_matrix, cmap='Blues', aspect='auto')\n",
    "plt.colorbar(label='Embedding Value')\n",
    "plt.title('2D Matrix Plot of Embeddings')\n",
    "plt.xlabel('Second alphabet')\n",
    "plt.ylabel('Context alphabet')\n",
    "plt.xticks(x_ticklabel_vec, ticklabels)\n",
    "plt.yticks(y_ticklabel_vec, ticklabels)\n",
    "plt.show()"
   ]
  },
  {
   "cell_type": "code",
   "execution_count": null,
   "metadata": {},
   "outputs": [],
   "source": [
    "## Plot tsne or pca for embeddings\n",
    "# t-SNE example:\n",
    "tsne = TSNE(n_components=2, perplexity=5)\n",
    "reduced_embeddings = tsne.fit_transform(embeddings_matrix)\n",
    "\n",
    "# visualize dimensions 0 and 1 of the embedding matrix for all characters\n",
    "plt.figure(figsize=(8,8))\n",
    "plt.scatter(reduced_embeddings[:,0].data, reduced_embeddings[:,1].data, s=200)\n",
    "for i in range(embeddings_matrix.shape[0]):\n",
    "    plt.text(reduced_embeddings[i,0].item(), reduced_embeddings[i,1].item(), ticklabels[i], ha=\"center\", va=\"center\", color='white')\n",
    "plt.grid('minor')"
   ]
  }
 ],
 "metadata": {
  "kernelspec": {
   "display_name": "Python 3",
   "language": "python",
   "name": "python3"
  },
  "language_info": {
   "codemirror_mode": {
    "name": "ipython",
    "version": 3
   },
   "file_extension": ".py",
   "mimetype": "text/x-python",
   "name": "python",
   "nbconvert_exporter": "python",
   "pygments_lexer": "ipython3",
   "version": "3.10.13"
  }
 },
 "nbformat": 4,
 "nbformat_minor": 2
}
