{
 "cells": [
  {
   "cell_type": "code",
   "execution_count": 1,
   "metadata": {},
   "outputs": [],
   "source": [
    "import torch\n",
    "import torch.nn as nn\n",
    "from torch.nn import functional as F\n",
    "import torch.optim as optim\n",
    "import math"
   ]
  },
  {
   "cell_type": "code",
   "execution_count": 2,
   "metadata": {},
   "outputs": [
    {
     "name": "stdout",
     "output_type": "stream",
     "text": [
      "15\n",
      "['a', 'b', 'c', 'd', 'e', 'f', 'g', 'h', 'i', 'j', 'k', 'l', 'm', 'n', 'o', 'p', 'q', 'r', 's', 't', 'u', 'v', 'w', 'x', 'y', 'z']\n"
     ]
    }
   ],
   "source": [
    "# Read file and create vocab\n",
    "names = open('../names.txt').read().splitlines()\n",
    "vocab = sorted(list(set(''.join(names))))\n",
    "max_name_length = max(len(n) for n in names)\n",
    "print(max_name_length)\n",
    "print(vocab)"
   ]
  },
  {
   "cell_type": "code",
   "execution_count": 3,
   "metadata": {},
   "outputs": [
    {
     "name": "stdout",
     "output_type": "stream",
     "text": [
      "{'a': 1, 'b': 2, 'c': 3, 'd': 4, 'e': 5, 'f': 6, 'g': 7, 'h': 8, 'i': 9, 'j': 10, 'k': 11, 'l': 12, 'm': 13, 'n': 14, 'o': 15, 'p': 16, 'q': 17, 'r': 18, 's': 19, 't': 20, 'u': 21, 'v': 22, 'w': 23, 'x': 24, 'y': 25, 'z': 26}\n",
      "{1: 'a', 2: 'b', 3: 'c', 4: 'd', 5: 'e', 6: 'f', 7: 'g', 8: 'h', 9: 'i', 10: 'j', 11: 'k', 12: 'l', 13: 'm', 14: 'n', 15: 'o', 16: 'p', 17: 'q', 18: 'r', 19: 's', 20: 't', 21: 'u', 22: 'v', 23: 'w', 24: 'x', 25: 'y', 26: 'z'}\n"
     ]
    }
   ],
   "source": [
    "# Create simple tokenizer (tokenizes one name at a time)\n",
    "stoi = {s: i+1 for i,s in enumerate(vocab)}\n",
    "itos = {s: i for i,s in stoi.items()}\n",
    "encode = lambda name: [stoi[n] for n in name]\n",
    "decode = lambda tokens: ''.join(itos[t] for t in tokens)\n",
    "print(stoi)\n",
    "print(itos)"
   ]
  },
  {
   "cell_type": "code",
   "execution_count": 4,
   "metadata": {},
   "outputs": [],
   "source": [
    "# Create training and test sets\n",
    "import random\n",
    "# Set the seed\n",
    "seed_value = 42\n",
    "random.seed(seed_value)\n",
    "n1 = int(0.9*len(names))\n",
    "random.shuffle(names)\n",
    "# print(names[0:5], names_ss[0:5]) # check that dataset is shuffled\n",
    "train_data = names[:n1]\n",
    "test_data = names[n1:] # there should be a validation dataset to train hyperparameters but this is meant to be quick and dirty\n",
    "# print(len(train_data), len(test_data))\n",
    "encoded_train_data = [encode(name) for name in train_data]\n",
    "encoded_test_data = [encode(name) for name in test_data]"
   ]
  },
  {
   "cell_type": "code",
   "execution_count": 5,
   "metadata": {},
   "outputs": [],
   "source": [
    "## Get batch of certain sizes\n",
    "def get_batch(batch_size, train=True):\n",
    "    x = torch.zeros(batch_size, max_name_length+1, dtype=torch.long) # +1 to account for start character\n",
    "    y = torch.zeros(batch_size, max_name_length+1, dtype=torch.long) # +1 to account for start character\n",
    "    if train:\n",
    "        encoded_batch_names = random.sample(encoded_train_data, batch_size)\n",
    "    else:\n",
    "        encoded_batch_names = random.sample(encoded_test_data, batch_size)\n",
    "        \n",
    "    encoded_batch_names = random.sample(encoded_test_data, batch_size)\n",
    "    decoded_batch_names = [decode(n) for n in encoded_batch_names]\n",
    "    for idx,e_name in enumerate(encoded_batch_names):\n",
    "        x[idx, 1:1+len(e_name)] = torch.tensor(e_name)\n",
    "        y[idx, :len(e_name)] = torch.tensor(e_name)\n",
    "        y[idx, len(e_name)+1:] = -1 \n",
    "\n",
    "    return x, y #for checking that we are not getting garbage: decoded_batch_names, encoded_batch_names"
   ]
  },
  {
   "cell_type": "code",
   "execution_count": 6,
   "metadata": {},
   "outputs": [],
   "source": [
    "# Checking batchifying\n",
    "# x, y, decoded_batch, encoded_batch = get_batch(4)\n",
    "# print(x)\n",
    "# print(y)\n",
    "# print(decoded_batch)\n",
    "# print(encoded_batch)"
   ]
  },
  {
   "cell_type": "code",
   "execution_count": 7,
   "metadata": {},
   "outputs": [],
   "source": [
    "class Bigram(nn.Module):\n",
    "    def __init__(self,vocab_size):\n",
    "        super(Bigram, self).__init__()\n",
    "        self.bigram_embedding = nn.Embedding(vocab_size, vocab_size)\n",
    "\n",
    "    def forward(self, x, targets = None):\n",
    "        logits = self.bigram_embedding(x) # Outputs Batch, Time, Channel (Vocab Size) \n",
    "        if targets == None:\n",
    "            loss = None\n",
    "        else:\n",
    "            self.B,self.T,self.C = logits.shape\n",
    "            logits = logits.view(self.B*self.T,self.C)\n",
    "            targets = targets.contiguous().view(self.B*self.T)\n",
    "            loss = F.cross_entropy(logits, targets, ignore_index=-1)\n",
    "        \n",
    "        return logits, loss\n",
    "\n",
    "    # \"\"\"\n",
    "    # Bigram Language Model 'neural net', simply a lookup table of logits for the\n",
    "    # next character given a previous character.\n",
    "    # \"\"\"\n",
    "\n",
    "    # def __init__(self, vocab_size):\n",
    "    #     super().__init__()\n",
    "    #     n = vocab_size\n",
    "    #     self.logits = nn.Parameter(torch.zeros((n, n)))\n",
    "\n",
    "    # def get_block_size(self):\n",
    "    #     return 1 # this model only needs one previous character to predict the next\n",
    "\n",
    "    # def forward(self, idx, targets=None):\n",
    "\n",
    "    #      # 'forward pass', lol\n",
    "    #     logits = self.logits[idx]\n",
    "\n",
    "    #     # if we are given some desired targets also calculate the loss\n",
    "    #     loss = None\n",
    "    #     if targets is not None:\n",
    "    #         loss = F.cross_entropy(logits.view(-1, logits.size(-1)), targets.view(-1), ignore_index=-1)\n",
    "\n",
    "    #     return logits, loss\n",
    "    \n",
    "    # @torch.no_grad()\n",
    "    # def generate(self, x, max_new_tokens):\n",
    "    #     # x should have dimensions (B,T*C) where B is number of new names and T is time dimension (so just start character)\n",
    "    #     # For names we will truncate anything new after the stop character\n",
    "    #     block_size = 1\n",
    "    #     for _ in range(max_new_tokens):\n",
    "    #         x_cond = x if x.size(1) <= block_size else x[:, -block_size:]\n",
    "    #         logits, _ = self(x_cond)\n",
    "    #         # Take softmax along the channel dimension \n",
    "    #         probs = F.softmax(logits, dim=-1)\n",
    "    #         # Sample from the distribution\n",
    "    #         x_next = torch.multinomial(probs, num_samples = 1)\n",
    "    #         # _, x_next = torch.topk(probs, k=1, dim=-1)\n",
    "    #         x = torch.cat((x, x_next[0])) # x dimension B, T --> B, T+1\n",
    "            \n",
    "    #     return x"
   ]
  },
  {
   "cell_type": "code",
   "execution_count": 8,
   "metadata": {},
   "outputs": [],
   "source": [
    "# # Check how the neural network is initializing\n",
    "# xb, yb = get_batch(batch_size=4)\n",
    "# vocab_size = len(vocab)\n",
    "# model = Bigram(vocab_size)\n",
    "# logits, loss = model(xb, yb)\n",
    "# print(logits.shape)\n",
    "# print(loss)"
   ]
  },
  {
   "cell_type": "code",
   "execution_count": 9,
   "metadata": {},
   "outputs": [],
   "source": [
    "# Set up optimizer\n",
    "vocab_size = len(vocab) + 1 # +1 for special characters\n",
    "model = Bigram(vocab_size)\n",
    "from torch.optim import Adam\n",
    "optimizer = Adam(model.parameters(), lr=0.001)\n",
    "criterion = nn.CrossEntropyLoss()"
   ]
  },
  {
   "cell_type": "code",
   "execution_count": 10,
   "metadata": {},
   "outputs": [],
   "source": [
    "batch_size = 32\n",
    "\n",
    "@torch.inference_mode()\n",
    "def evaluate_loss(num_batches = 10):\n",
    "    model.eval()\n",
    "    loss_tr = []\n",
    "    loss_te = []\n",
    "    for n in range(num_batches):\n",
    "        Xtr, Ytr = get_batch(batch_size)\n",
    "        Xte, Yte = get_batch(batch_size, train=False)\n",
    "        _, train_loss = model(Xtr, Ytr)\n",
    "        _, test_loss = model(Xte, Yte)\n",
    "        loss_tr.append(train_loss)\n",
    "        loss_te.append(test_loss)\n",
    "    \n",
    "    mean_train_loss = torch.tensor(loss_tr).mean().item()\n",
    "    mean_test_loss = torch.tensor(loss_te).mean().item()\n",
    "    model.train()\n",
    "    return(mean_train_loss, mean_test_loss)\n"
   ]
  },
  {
   "cell_type": "code",
   "execution_count": 19,
   "metadata": {},
   "outputs": [
    {
     "name": "stdout",
     "output_type": "stream",
     "text": [
      "tensor([[ 0, 19,  9, 12, 22,  1, 14,  1,  0,  0,  0,  0,  0,  0,  0,  0],\n",
      "        [ 0, 20,  1, 13,  0,  0,  0,  0,  0,  0,  0,  0,  0,  0,  0,  0],\n",
      "        [ 0, 11,  1,  4,  1, 18,  0,  0,  0,  0,  0,  0,  0,  0,  0,  0],\n",
      "        [ 0, 25, 21, 24, 21,  1, 14,  0,  0,  0,  0,  0,  0,  0,  0,  0],\n",
      "        [ 0, 11, 15, 21, 18, 20, 14,  5, 25,  0,  0,  0,  0,  0,  0,  0],\n",
      "        [ 0,  1, 13,  1,  1, 12,  0,  0,  0,  0,  0,  0,  0,  0,  0,  0],\n",
      "        [ 0, 13,  9,  3,  8, 15, 14, 14,  5,  0,  0,  0,  0,  0,  0,  0],\n",
      "        [ 0, 18, 25,  5,  0,  0,  0,  0,  0,  0,  0,  0,  0,  0,  0,  0]])\n",
      "tensor([[19,  9, 12, 22,  1, 14,  1,  0, -1, -1, -1, -1, -1, -1, -1, -1],\n",
      "        [20,  1, 13,  0, -1, -1, -1, -1, -1, -1, -1, -1, -1, -1, -1, -1],\n",
      "        [11,  1,  4,  1, 18,  0, -1, -1, -1, -1, -1, -1, -1, -1, -1, -1],\n",
      "        [25, 21, 24, 21,  1, 14,  0, -1, -1, -1, -1, -1, -1, -1, -1, -1],\n",
      "        [11, 15, 21, 18, 20, 14,  5, 25,  0, -1, -1, -1, -1, -1, -1, -1],\n",
      "        [ 1, 13,  1,  1, 12,  0, -1, -1, -1, -1, -1, -1, -1, -1, -1, -1],\n",
      "        [13,  9,  3,  8, 15, 14, 14,  5,  0, -1, -1, -1, -1, -1, -1, -1],\n",
      "        [18, 25,  5,  0, -1, -1, -1, -1, -1, -1, -1, -1, -1, -1, -1, -1]])\n",
      "tensor([[ 0,  3,  1, 18, 15, 12, 25, 14, 14,  5,  0,  0,  0,  0,  0,  0],\n",
      "        [ 0, 23,  9, 12,  9,  1, 13,  0,  0,  0,  0,  0,  0,  0,  0,  0],\n",
      "        [ 0, 20,  9, 13,  9, 18,  0,  0,  0,  0,  0,  0,  0,  0,  0,  0],\n",
      "        [ 0, 19, 21, 19,  1, 14, 14,  1,  0,  0,  0,  0,  0,  0,  0,  0],\n",
      "        [ 0,  4,  5, 19,  8, 15, 14,  0,  0,  0,  0,  0,  0,  0,  0,  0],\n",
      "        [ 0, 19,  8,  9, 22,  1, 25,  0,  0,  0,  0,  0,  0,  0,  0,  0],\n",
      "        [ 0,  9, 14,  4,  5,  5,  0,  0,  0,  0,  0,  0,  0,  0,  0,  0],\n",
      "        [ 0,  2,  5, 14, 14, 25,  0,  0,  0,  0,  0,  0,  0,  0,  0,  0]])\n",
      "tensor([[ 3,  1, 18, 15, 12, 25, 14, 14,  5,  0, -1, -1, -1, -1, -1, -1],\n",
      "        [23,  9, 12,  9,  1, 13,  0, -1, -1, -1, -1, -1, -1, -1, -1, -1],\n",
      "        [20,  9, 13,  9, 18,  0, -1, -1, -1, -1, -1, -1, -1, -1, -1, -1],\n",
      "        [19, 21, 19,  1, 14, 14,  1,  0, -1, -1, -1, -1, -1, -1, -1, -1],\n",
      "        [ 4,  5, 19,  8, 15, 14,  0, -1, -1, -1, -1, -1, -1, -1, -1, -1],\n",
      "        [19,  8,  9, 22,  1, 25,  0, -1, -1, -1, -1, -1, -1, -1, -1, -1],\n",
      "        [ 9, 14,  4,  5,  5,  0, -1, -1, -1, -1, -1, -1, -1, -1, -1, -1],\n",
      "        [ 2,  5, 14, 14, 25,  0, -1, -1, -1, -1, -1, -1, -1, -1, -1, -1]])\n"
     ]
    }
   ],
   "source": [
    "# Training loop - update to evaluate loss on ongoing basis and printing results, understand whats going on in the bigram model - ie why isnt it working with embedding \n",
    "\n",
    "batch_size = 8\n",
    "\n",
    "tr_loss = []\n",
    "te_loss = []\n",
    "\n",
    "for steps in range(2):\n",
    "    xb, yb = get_batch(batch_size)\n",
    "    print(xb)\n",
    "    print(yb)\n",
    "    logits, loss = model(xb,yb)\n",
    "    optimizer.zero_grad(set_to_none=True)\n",
    "    loss.backward()\n",
    "    optimizer.step()\n",
    "    ltr, lte = evaluate_loss()\n",
    "    tr_loss.append(ltr)\n",
    "    te_loss.append(lte)\n",
    "\n",
    "    # if steps % 99 == 0:\n",
    "    #     print('ltr: ', ltr, 'lte: ', lte, 'single shot loss:', loss.item())\n"
   ]
  },
  {
   "cell_type": "code",
   "execution_count": 12,
   "metadata": {},
   "outputs": [
    {
     "data": {
      "image/png": "[encoded data removed]",
      "text/plain": [
       "<Figure size 640x480 with 1 Axes>"
      ]
     },
     "metadata": {},
     "output_type": "display_data"
    }
   ],
   "source": [
    "# Plot loss \n",
    "import matplotlib.pyplot as plt\n",
    "\n",
    "plt.plot(tr_loss)\n",
    "plt.plot(te_loss)\n",
    "\n",
    "plt.show()"
   ]
  },
  {
   "cell_type": "code",
   "execution_count": 13,
   "metadata": {},
   "outputs": [],
   "source": [
    "# # Infer from the model\n",
    "# generated_names = decode(model.generate(torch.tensor([0]),max_new_tokens=10).tolist()[1:]) # We want to crop out the first letter which is a start token\n",
    "# generated_names"
   ]
  },
  {
   "cell_type": "code",
   "execution_count": 14,
   "metadata": {},
   "outputs": [],
   "source": [
    "@torch.no_grad()\n",
    "def generate(model, idx, block_size=1):\n",
    "    for _ in range(max_name_length):\n",
    "        idx_cond = idx if idx.size(1) <= block_size else idx[:, -block_size:]\n",
    "        logits, _ = model(idx_cond)\n",
    "        # input_tokens = input_tokens[-block_length:] if len(input_tokens) > block_length else input_tokens\n",
    "        # logits, _ = model(input_tokens)\n",
    "        logits = torch.squeeze(logits)\n",
    "        probs = F.softmax(logits, dim=-1)\n",
    "        idx_next = torch.multinomial(probs, num_samples=1)\n",
    "        idx = torch.cat((idx, idx_next), dim=1)\n",
    "        # ouput_token = torch.squeeze(torch.multinomial(probs, 1))\n",
    "        # x.append(ouput_token.tolist())\n",
    "    return idx"
   ]
  },
  {
   "cell_type": "code",
   "execution_count": 15,
   "metadata": {},
   "outputs": [],
   "source": [
    "def print_samples(num=10):\n",
    "    \"\"\" samples from the model and pretty prints the decoded samples \"\"\"\n",
    "    X_init = torch.zeros(num, 1, dtype=torch.long)\n",
    "    steps = max_name_length # we already start with <START> token (index 0) so its just len(vocab) instead of len(vocab) + 1\n",
    "    X_samp = generate(model, X_init)[:,1:].tolist()\n",
    "    # print(X_samp)\n",
    "    for row in X_samp:\n",
    "        crop_index = row.index(0) if 0 in row else len(row)\n",
    "        # print(row, crop_index)\n",
    "        row = row[:crop_index]\n",
    "        print(decode(row))\n",
    "    \n",
    "    \n",
    "    # train_samples, test_samples, new_samples = [], [], []\n",
    "    # for i in range(X_samp.size(0)):\n",
    "    #     # get the i'th row of sampled integers, as python list\n",
    "    #     row = X_samp[i, 1:].tolist() # note: we need to crop out the first <START> token\n",
    "    #     # token 0 is the <STOP> token, so we crop the output sequence at that point\n",
    "    #     crop_index = row.index(0) if 0 in row else len(row)\n",
    "    #     row = row[:crop_index]\n",
    "    #     word_samp = decode(row)\n",
    "    #     # separately track samples that we have and have not seen before\n",
    "    #     # if train_dataset.contains(word_samp):\n",
    "    #     #     train_samples.append(word_samp)\n",
    "    #     # elif test_dataset.contains(word_samp):\n",
    "    #     #     test_samples.append(word_samp)\n",
    "    #     # else:\n",
    "    #     #     new_samples.append(word_samp)\n",
    "    #     new_samples.append(word_samp)\n",
    "    # print('-'*80)\n",
    "    # for lst, desc in [(train_samples, 'in train'), (test_samples, 'in test'), (new_samples, 'new')]:\n",
    "    #     print(f\"{len(lst)} samples that are {desc}:\")\n",
    "    #     for word in lst:\n",
    "    #         print(word)\n",
    "    # print('-'*80)"
   ]
  },
  {
   "cell_type": "code",
   "execution_count": 16,
   "metadata": {},
   "outputs": [
    {
     "name": "stdout",
     "output_type": "stream",
     "text": [
      "jal\n",
      "kh\n",
      "veyeireneietabh\n",
      "lyl\n",
      "lalle\n",
      "wjonanoviangnck\n",
      "ikepanelemirquk\n",
      "zfr\n",
      "katadr\n",
      "liyquekacaelo\n"
     ]
    }
   ],
   "source": [
    "print_samples()"
   ]
  },
  {
   "cell_type": "code",
   "execution_count": null,
   "metadata": {},
   "outputs": [],
   "source": []
  },
  {
   "cell_type": "code",
   "execution_count": null,
   "metadata": {},
   "outputs": [],
   "source": []
  },
  {
   "cell_type": "code",
   "execution_count": null,
   "metadata": {},
   "outputs": [],
   "source": []
  },
  {
   "cell_type": "code",
   "execution_count": null,
   "metadata": {},
   "outputs": [],
   "source": []
  },
  {
   "cell_type": "code",
   "execution_count": null,
   "metadata": {},
   "outputs": [],
   "source": [
    "import sys\n",
    "sys.path.append(\"/Users/shwetank/code/makemore\") "
   ]
  },
  {
   "cell_type": "code",
   "execution_count": null,
   "metadata": {},
   "outputs": [],
   "source": [
    "from makemore import create_datasets"
   ]
  },
  {
   "cell_type": "code",
   "execution_count": null,
   "metadata": {},
   "outputs": [],
   "source": [
    "tr, te = create_datasets('../names.txt')"
   ]
  },
  {
   "cell_type": "code",
   "execution_count": null,
   "metadata": {},
   "outputs": [],
   "source": [
    "tr[5]\n",
    "# tr.decode(tr[1][0])"
   ]
  },
  {
   "cell_type": "code",
   "execution_count": null,
   "metadata": {},
   "outputs": [],
   "source": [
    "# -----------------------------------------------------------------------------\n",
    "# helper functions for creating the training and test Datasets that emit words\n",
    "from torch.utils.data import Dataset\n",
    "class CharDataset(Dataset):\n",
    "\n",
    "    def __init__(self, words, chars, max_word_length):\n",
    "        self.words = words\n",
    "        self.chars = chars\n",
    "        self.max_word_length = max_word_length\n",
    "        self.stoi = {ch:i+1 for i,ch in enumerate(chars)}\n",
    "        self.itos = {i:s for s,i in self.stoi.items()} # inverse mapping\n",
    "\n",
    "    def __len__(self):\n",
    "        return len(self.words)\n",
    "\n",
    "    def contains(self, word):\n",
    "        return word in self.words\n",
    "\n",
    "    def get_vocab_size(self):\n",
    "        return len(self.chars) + 1 # all the possible characters and special 0 token\n",
    "\n",
    "    def get_output_length(self):\n",
    "        return self.max_word_length + 1 # <START> token followed by words\n",
    "\n",
    "    def encode(self, word):\n",
    "        ix = torch.tensor([self.stoi[w] for w in word], dtype=torch.long)\n",
    "        return ix\n",
    "\n",
    "    def decode(self, ix):\n",
    "        word = ''.join(self.itos[i] for i in ix)\n",
    "        return word\n",
    "\n",
    "    def __getitem__(self, idx):\n",
    "        word = self.words[idx]\n",
    "        ix = self.encode(word)\n",
    "        x = torch.zeros(self.max_word_length + 1, dtype=torch.long)\n",
    "        y = torch.zeros(self.max_word_length + 1, dtype=torch.long)\n",
    "        x[1:1+len(ix)] = ix\n",
    "        y[:len(ix)] = ix\n",
    "        y[len(ix)+1:] = -1 # index -1 will mask the loss at the inactive locations\n",
    "        return x, y"
   ]
  },
  {
   "cell_type": "code",
   "execution_count": null,
   "metadata": {},
   "outputs": [],
   "source": [
    "def create_datasets(input_file):\n",
    "\n",
    "    # preprocessing of the input text file\n",
    "    with open(input_file, 'r') as f:\n",
    "        data = f.read()\n",
    "    words = data.splitlines()\n",
    "    words = [w.strip() for w in words] # get rid of any leading or trailing white space\n",
    "    words = [w for w in words if w] # get rid of any empty strings\n",
    "    chars = sorted(list(set(''.join(words)))) # all the possible characters\n",
    "    max_word_length = max(len(w) for w in words)\n",
    "    print(f\"number of examples in the dataset: {len(words)}\")\n",
    "    print(f\"max word length: {max_word_length}\")\n",
    "    print(f\"number of unique characters in the vocabulary: {len(chars)}\")\n",
    "    print(\"vocabulary:\")\n",
    "    print(''.join(chars))\n",
    "\n",
    "    # partition the input data into a training and the test set\n",
    "    test_set_size = min(1000, int(len(words) * 0.1)) # 10% of the training set, or up to 1000 examples\n",
    "    rp = torch.randperm(len(words)).tolist()\n",
    "    train_words = [words[i] for i in rp[:-test_set_size]]\n",
    "    test_words = [words[i] for i in rp[-test_set_size:]]\n",
    "    print(f\"split up the dataset into {len(train_words)} training examples and {len(test_words)} test examples\")\n",
    "\n",
    "    # wrap in dataset objects\n",
    "    train_dataset = CharDataset(train_words, chars, max_word_length)\n",
    "    test_dataset = CharDataset(test_words, chars, max_word_length)\n",
    "\n",
    "    return train_dataset, test_dataset"
   ]
  },
  {
   "cell_type": "code",
   "execution_count": null,
   "metadata": {},
   "outputs": [],
   "source": [
    "train_data, test_data = create_datasets('../names.txt')\n"
   ]
  },
  {
   "cell_type": "code",
   "execution_count": null,
   "metadata": {},
   "outputs": [],
   "source": [
    "from torch.utils.data.dataloader import DataLoader\n",
    "class InfiniteDataLoader:\n",
    "    \"\"\"\n",
    "    this is really hacky and I'm not proud of it, but there doesn't seem to be\n",
    "    a better way in PyTorch to just create an infinite dataloader?\n",
    "    \"\"\"\n",
    "\n",
    "    def __init__(self, dataset, **kwargs):\n",
    "        train_sampler = torch.utils.data.RandomSampler(dataset, replacement=True, num_samples=int(1e10))\n",
    "        self.train_loader = DataLoader(dataset, sampler=train_sampler, **kwargs)\n",
    "        self.data_iter = iter(self.train_loader)\n",
    "\n",
    "    def next(self):\n",
    "        try:\n",
    "            batch = next(self.data_iter)\n",
    "        except StopIteration: # this will technically only happen after 1e10 samples... (i.e. basically never)\n",
    "            self.data_iter = iter(self.train_loader)\n",
    "            batch = next(self.data_iter)\n",
    "        return batch"
   ]
  },
  {
   "cell_type": "code",
   "execution_count": null,
   "metadata": {},
   "outputs": [],
   "source": [
    "train_dataset, test_dataset = create_datasets('../names.txt')"
   ]
  },
  {
   "cell_type": "code",
   "execution_count": null,
   "metadata": {},
   "outputs": [],
   "source": [
    "# init dataloader\n",
    "batch_loader = InfiniteDataLoader(train_dataset, batch_size=5, pin_memory=True)"
   ]
  },
  {
   "cell_type": "code",
   "execution_count": null,
   "metadata": {},
   "outputs": [],
   "source": [
    "batch = batch_loader.next()\n",
    "batch = [t for t in batch]\n",
    "X, Y = batch\n",
    "print(X)\n",
    "print(Y)"
   ]
  },
  {
   "cell_type": "code",
   "execution_count": null,
   "metadata": {},
   "outputs": [],
   "source": [
    "batch[0].shape, batch[1].shape"
   ]
  },
  {
   "cell_type": "code",
   "execution_count": null,
   "metadata": {},
   "outputs": [],
   "source": [
    "train_dataset[0]"
   ]
  },
  {
   "cell_type": "code",
   "execution_count": null,
   "metadata": {},
   "outputs": [],
   "source": [
    "# # Example training data with variable-length sequences\n",
    "# training_data = ['hello', 'world', 'python', 'example', 'abc', 'xyz', 'encompass']\n",
    "# encoded_data = [encode(name) for name in training_data]\n",
    "\n",
    "# # Find the maximum sequence length\n",
    "# block_size = max(len(seq) for seq in encoded_data)\n",
    "\n",
    "# # Pad sequences to the maximum length\n",
    "# padded_data = [seq + [0] * (block_size - len(seq)) for seq in encoded_data]\n",
    "\n",
    "# padded_data_tensor = torch.tensor(padded_data)\n",
    "# x  = padded_data_tensor[:,:block_size-1]\n",
    "# y  = padded_data_tensor[:,1:block_size]\n",
    "# padded_data_tensor,x,y"
   ]
  },
  {
   "cell_type": "code",
   "execution_count": null,
   "metadata": {},
   "outputs": [],
   "source": [
    "class PositionalEncoding(nn.Module):\n",
    "    def __init__(self, d_model, max_len=512):\n",
    "        super(PositionalEncoding, self).__init__()\n",
    "        pe = torch.zeros(max_len, d_model)\n",
    "        position = torch.arange(0, max_len, dtype=torch.float).unsqueeze(1)\n",
    "        div_term = torch.exp(torch.arange(0, d_model, 2).float() * -(math.log(10000.0) / d_model))\n",
    "        pe[:, 0::2] = torch.sin(position * div_term)\n",
    "        pe[:, 1::2] = torch.cos(position * div_term)\n",
    "        pe = pe.unsqueeze(0)\n",
    "        self.register_buffer('pe', pe)\n",
    "\n",
    "    def forward(self, x):\n",
    "        return x + self.pe[:, :x.size(1)].detach()"
   ]
  },
  {
   "cell_type": "code",
   "execution_count": null,
   "metadata": {},
   "outputs": [],
   "source": [
    "class TransformerDecoder(nn.Module):\n",
    "    def __init__(self,vocab_size):\n",
    "        super(TransformerDecoder, self).__init__()\n",
    "        # self.embedding = nn.Embedding(vocab_size, d_model)\n",
    "        # self.positional_encoding = PositionalEncoding(d_model, max_len)\n",
    "        # self.transformer_decoder_layer = nn.TransformerDecoderLayer(d_model, nhead, dim_feedforward)\n",
    "        # self.transformer_decoder = nn.TransformerDecoder(self.transformer_decoder_layer, num_layers=num_layers)\n",
    "        # self.fc = nn.Linear(d_model, vocab_size)\n",
    "        self.bigram_embedding = nn.Embedding(vocab_size, vocab_size)\n",
    "\n",
    "    def forward(self, x, targets = None):\n",
    "        logits = self.bigram_embedding(x) # Outputs Batch, Time, Channel (Vocab Size) \n",
    "        if targets == None:\n",
    "            loss = None\n",
    "        else:\n",
    "            self.B,self.T,self.C = logits.shape\n",
    "            logits = logits.view(self.B*self.T,self.C)\n",
    "            targets = targets.contiguous().view(self.B*self.T)\n",
    "            loss = F.cross_entropy(logits, targets)\n",
    "        \n",
    "        return logits, loss\n",
    "    \n",
    "    def generate(self, x, ntokens):\n",
    "        # x should have dimensions (B,T*C) where B is number of new names and T is time dimension (so just start character)\n",
    "        # For names we will truncate anything new after the stop character\n",
    "        for n in range(ntokens):\n",
    "            logits, loss = self(x)\n",
    "            # Take softmax along the channel dimension \n",
    "            probs = F.softmax(logits, -1)\n",
    "            # Sample from the distribution\n",
    "            x_next = torch.multinomial(probs, num_samples = 1)\n",
    "            x = torch.cat((x, x_next[0])) # x dimension B, T --> B, T+1\n",
    "            \n",
    "        return x"
   ]
  },
  {
   "cell_type": "code",
   "execution_count": null,
   "metadata": {},
   "outputs": [],
   "source": [
    "vocab_size = len(vocab)\n",
    "model = TransformerDecoder(vocab_size)\n",
    "logits, loss = model(x, y)\n",
    "print(logits.shape)\n",
    "print(loss)\n",
    "# output.shape # Shape is Batch, Time (including padding), Channel (Vocab size) of 28\n",
    "# print(logits.view(7,8,-1)[:,-1,:].shape)"
   ]
  },
  {
   "cell_type": "code",
   "execution_count": null,
   "metadata": {},
   "outputs": [],
   "source": [
    "# Print whatever we get out of untrained model\n",
    "x = torch.zeros(1,1,dtype=torch.long)\n",
    "print(decode(model.generate(x[:,0], ntokens=30).tolist()))"
   ]
  },
  {
   "cell_type": "code",
   "execution_count": null,
   "metadata": {},
   "outputs": [],
   "source": [
    "from torch.optim import Adam\n",
    "optimizer = Adam(model.parameters(), lr=0.001)\n",
    "criterion = nn.CrossEntropyLoss()"
   ]
  },
  {
   "cell_type": "code",
   "execution_count": null,
   "metadata": {},
   "outputs": [],
   "source": [
    "# Training loop\n",
    "batch_size = 32\n",
    "\n",
    "for steps in range(10000):\n",
    "    xb, yb = get_batch(batch_size=32)\n",
    "    logits, loss = model(xb,yb)\n",
    "    optimizer.zero_grad(set_to_none=True)\n",
    "    loss.backward()\n",
    "    optimizer.step()\n",
    "\n",
    "print(loss.item())\n"
   ]
  },
  {
   "cell_type": "code",
   "execution_count": null,
   "metadata": {},
   "outputs": [],
   "source": [
    "decode(model.generate(torch.tensor([0]),ntokens=17).tolist())"
   ]
  },
  {
   "cell_type": "code",
   "execution_count": null,
   "metadata": {},
   "outputs": [],
   "source": []
  },
  {
   "cell_type": "code",
   "execution_count": null,
   "metadata": {},
   "outputs": [],
   "source": []
  },
  {
   "cell_type": "code",
   "execution_count": null,
   "metadata": {},
   "outputs": [],
   "source": []
  },
  {
   "cell_type": "code",
   "execution_count": null,
   "metadata": {},
   "outputs": [],
   "source": [
    "vocab_size = len(vocab)\n",
    "d_model = 2 # Start with 2D to see if its separating vowels and consonants\n",
    "nhead = 2 # What does this do?\n",
    "dim_feedforward = 200\n",
    "num_layers = 1\n",
    "model = TransformerDecoder(vocab_size, d_model, nhead, dim_feedforward, num_layers)\n"
   ]
  },
  {
   "cell_type": "code",
   "execution_count": null,
   "metadata": {},
   "outputs": [],
   "source": [
    "x = torch.tensor([[ 6, 13, 13, 16,  0,  0,  0,  0],\n",
    "        [16, 19, 13,  5,  0,  0,  0,  0],\n",
    "        [26, 21,  9, 16, 15,  0,  0,  0],\n",
    "        [25,  2, 14, 17, 13,  6,  0,  0],\n",
    "        [ 3,  4,  0,  0,  0,  0,  0,  0],\n",
    "        [26, 27,  0,  0,  0,  0,  0,  0],\n",
    "        [15,  4, 16, 14, 17,  2, 20, 20]])"
   ]
  },
  {
   "cell_type": "code",
   "execution_count": null,
   "metadata": {},
   "outputs": [],
   "source": [
    "x.shape"
   ]
  },
  {
   "cell_type": "code",
   "execution_count": null,
   "metadata": {},
   "outputs": [],
   "source": [
    "x.view(-1)"
   ]
  },
  {
   "cell_type": "code",
   "execution_count": null,
   "metadata": {},
   "outputs": [],
   "source": []
  },
  {
   "cell_type": "code",
   "execution_count": null,
   "metadata": {},
   "outputs": [],
   "source": []
  },
  {
   "cell_type": "code",
   "execution_count": null,
   "metadata": {},
   "outputs": [],
   "source": []
  },
  {
   "cell_type": "code",
   "execution_count": null,
   "metadata": {},
   "outputs": [],
   "source": [
    "# Training loop\n",
    "num_epochs = 10"
   ]
  },
  {
   "cell_type": "code",
   "execution_count": null,
   "metadata": {},
   "outputs": [],
   "source": [
    "# memory_mask = torch.triu(torch.ones((len(encoded_sequence)-1, len(encoded_sequence)-1)), diagonal=1).byte()\n",
    "# memory_mask"
   ]
  },
  {
   "cell_type": "code",
   "execution_count": null,
   "metadata": {},
   "outputs": [],
   "source": [
    "for epoch in range(num_epochs):\n",
    "    total_loss = 0\n",
    "\n",
    "    for encoded_sequence in padded_data:\n",
    "        input_sequence = torch.tensor(encoded_sequence[:-1])  # Input sequence excluding the last token\n",
    "        target_sequence = torch.tensor(encoded_sequence[1:])   # Target sequence excluding the first token\n",
    "\n",
    "        optimizer.zero_grad()\n",
    "\n",
    "        # No memory for a decoder-only model\n",
    "        # memory_mask = torch.triu(torch.ones((len(encoded_sequence)-1, len(encoded_sequence)-1)), diagonal=1).byte()\n",
    "\n",
    "        # output = model(input_sequence.unsqueeze(0), memory_mask=memory_mask)  # Adjust the input shape based on your model requirements\n",
    "        output = model(input_sequence.unsqueeze(0))\n",
    "        loss = criterion(output.squeeze(0), target_sequence)\n",
    "\n",
    "        loss.backward()\n",
    "        optimizer.step()\n",
    "\n",
    "        total_loss += loss.item()\n",
    "\n",
    "    average_loss = total_loss / len(padded_data)\n",
    "    print(f'Epoch {epoch + 1}, Loss: {average_loss}')"
   ]
  },
  {
   "cell_type": "code",
   "execution_count": null,
   "metadata": {},
   "outputs": [],
   "source": []
  },
  {
   "cell_type": "code",
   "execution_count": null,
   "metadata": {},
   "outputs": [],
   "source": []
  },
  {
   "cell_type": "code",
   "execution_count": null,
   "metadata": {},
   "outputs": [],
   "source": []
  },
  {
   "cell_type": "code",
   "execution_count": null,
   "metadata": {},
   "outputs": [],
   "source": []
  },
  {
   "cell_type": "code",
   "execution_count": null,
   "metadata": {},
   "outputs": [],
   "source": []
  },
  {
   "cell_type": "code",
   "execution_count": null,
   "metadata": {},
   "outputs": [],
   "source": [
    "import torch\n",
    "import torch.nn as nn\n",
    "\n",
    "# Define a TransformerDecoderBlock\n",
    "class TransformerDecoderBlock(nn.Module):\n",
    "    def __init__(self, d_model, nhead, dim_feedforward):\n",
    "        super(TransformerDecoderBlock, self).__init__()\n",
    "        self.transformer_decoder_block = nn.TransformerDecoderLayer(d_model, nhead, dim_feedforward)\n",
    "\n",
    "    def forward(self, x, memory):\n",
    "        return self.transformer_decoder_block(x, memory)\n",
    "\n",
    "# Example usage\n",
    "# Assuming you have an input tensor `input_tensor` of shape (seq_len, batch_size, d_model)\n",
    "seq_len, batch_size, d_model = 10, 3, 512\n",
    "\n",
    "# Initialize the TransformerDecoderBlock\n",
    "decoder_block = TransformerDecoderBlock(d_model=d_model, nhead=8, dim_feedforward=2048)\n",
    "\n",
    "# Generate random input tensor (you would replace this with your actual input)\n",
    "input_tensor = torch.randn(seq_len, batch_size, d_model)\n",
    "\n",
    "# Generate random memory tensor (you would replace this with the encoder output)\n",
    "memory_tensor = torch.randn(seq_len, batch_size, d_model)\n",
    "\n",
    "# Forward pass through the TransformerDecoderBlock\n",
    "output_tensor = decoder_block(input_tensor, memory_tensor)\n",
    "\n",
    "# Print the shapes\n",
    "print(\"Input Tensor Shape:\", input_tensor.shape)\n",
    "print(\"Output Tensor Shape:\", output_tensor.shape)\n"
   ]
  },
  {
   "cell_type": "code",
   "execution_count": null,
   "metadata": {},
   "outputs": [],
   "source": [
    "input_tensor"
   ]
  },
  {
   "cell_type": "code",
   "execution_count": null,
   "metadata": {},
   "outputs": [],
   "source": [
    "output_tensor"
   ]
  },
  {
   "cell_type": "code",
   "execution_count": null,
   "metadata": {},
   "outputs": [],
   "source": [
    "# Create training source and targets\n",
    "\n",
    "x = train_data[:block_size]\n",
    "y = train_data[1:block_size+1]\n",
    "for t in range(block_size):\n",
    "    context = x[:t]\n",
    "    target = y[t+1]\n",
    "\n"
   ]
  },
  {
   "cell_type": "code",
   "execution_count": null,
   "metadata": {},
   "outputs": [],
   "source": []
  },
  {
   "cell_type": "code",
   "execution_count": null,
   "metadata": {},
   "outputs": [],
   "source": [
    "context_length = 3\n",
    "\n",
    "def build_dataset(names):\n",
    "    X, Y = [], []\n",
    "\n",
    "    for n in names:\n",
    "        # print(n)\n",
    "        context = [0]*context_length\n",
    "        for ch in n + '.':\n",
    "            ix = stoi[ch]\n",
    "            X.append(context)\n",
    "            Y.append(ix)\n",
    "            # print(''.join(itos[i] for i in context), '--->',itos[ix])\n",
    "            context = context[1:] + [ix]      \n",
    "\n",
    "    X = torch.tensor(X)\n",
    "    Y = torch.tensor(Y)\n",
    "\n",
    "    return X, Y"
   ]
  },
  {
   "cell_type": "code",
   "execution_count": null,
   "metadata": {},
   "outputs": [],
   "source": [
    "import random\n",
    "len(names)\n",
    "random.seed(42)\n",
    "n1 = int(len(names)*0.8)\n",
    "n2 = int(len(names)*0.9)\n",
    "random.shuffle(names)\n",
    "Xtr, Ytr = build_dataset(names[:n1])\n",
    "Xval, Yval = build_dataset(names[n1:n2])\n",
    "Xte, Yte = build_dataset(names[n2:])\n",
    "print(\"Training Set Size:\", \"\\n\",\"Xtr:\", Xtr.shape,\"\\n\",\"Ytr:\",Ytr.shape)\n",
    "print(\"Validation Set Size:\", \"\\n\",\"Xval:\", Xval.shape,\"\\n\",\"Yval:\",Yval.shape)\n",
    "print(\"Test Set Size:\", \"\\n\",\"Xte:\", Xte.shape,\"\\n\",\"Yte:\",Yte.shape)\n",
    "# print(Xval.shape, Yval.shape)\n",
    "# print(Xte.shape, Yte.shape)"
   ]
  },
  {
   "cell_type": "code",
   "execution_count": null,
   "metadata": {},
   "outputs": [],
   "source": [
    "class PositionalEncoding(nn.Module):\n",
    "    def __init__(self, dim_model, dropout_p, max_len):\n",
    "        super().__init__()\n",
    "        # Modified version from: https://pytorch.org/tutorials/beginner/transformer_tutorial.html\n",
    "        # max_len determines how far the position can have an effect on a token (window)\n",
    "        \n",
    "        # Info\n",
    "        self.dropout = nn.Dropout(dropout_p)\n",
    "        \n",
    "        # Encoding - From formula\n",
    "        pos_encoding = torch.zeros(max_len, dim_model)\n",
    "        positions_list = torch.arange(0, max_len, dtype=torch.float).view(-1, 1) # 0, 1, 2, 3, 4, 5\n",
    "        division_term = torch.exp(torch.arange(0, dim_model, 2).float() * (-math.log(10000.0)) / dim_model) # 1000^(2i/dim_model)\n",
    "        \n",
    "        # PE(pos, 2i) = sin(pos/1000^(2i/dim_model))\n",
    "        pos_encoding[:, 0::2] = torch.sin(positions_list * division_term)\n",
    "        \n",
    "        # PE(pos, 2i + 1) = cos(pos/1000^(2i/dim_model))\n",
    "        pos_encoding[:, 1::2] = torch.cos(positions_list * division_term)\n",
    "        \n",
    "        # Saving buffer (same as parameter without gradients needed)\n",
    "        pos_encoding = pos_encoding.unsqueeze(0).transpose(0, 1)\n",
    "        self.register_buffer(\"pos_encoding\",pos_encoding)\n",
    "        \n",
    "    def forward(self, token_embedding: torch.tensor) -> torch.tensor:\n",
    "        # Residual connection + pos encoding\n",
    "        return self.dropout(token_embedding + self.pos_encoding[:token_embedding.size(0), :])\n"
   ]
  },
  {
   "cell_type": "code",
   "execution_count": null,
   "metadata": {},
   "outputs": [],
   "source": [
    "class Transformer(nn.Module):\n",
    "    def __init__(\n",
    "        self,\n",
    "        num_tokens,\n",
    "        dim_model,\n",
    "        num_heads,\n",
    "        num_encoder_layers,\n",
    "        num_decoder_layers,\n",
    "        dropout_p,\n",
    "    ):\n",
    "        super().__init__()\n",
    "\n",
    "        self.model_type = 'Transformer'\n",
    "        self.dim_model = dim_model\n",
    "\n",
    "        # Layers\n",
    "        self.positional_encoding = PositionalEncoding(dim_model=dim_model, dropout_p=dropout_p , max_len=8)\n",
    "        self.embedding = nn.Embedding(num_tokens, dim_model)\n",
    "        self.transformer = nn.Transformer(\n",
    "            d_model=dim_model,\n",
    "            nhead=num_heads,\n",
    "            num_encoder_layers=num_encoder_layers,\n",
    "            num_decoder_layers=num_decoder_layers,\n",
    "            dropout=dropout_p,\n",
    "            batch_first=True\n",
    "        )\n",
    "\n",
    "        self.out = nn.Linear(dim_model, num_tokens)\n",
    "\n",
    "    def forward(self, src, tgt):\n",
    "        src = self.embedding(src)*math.sqrt(self.dim_model) \n",
    "        tgt = self.embedding(tgt)*math.sqrt(self.dim_model) \n",
    "        src = self.positional_encoding(src)\n",
    "        tgt = self.positional_encoding(tgt)\n",
    "        transformer_out = self.transformer(src, tgt)\n",
    "        out = self.out(transformer_out)\n",
    "        return out"
   ]
  },
  {
   "cell_type": "code",
   "execution_count": null,
   "metadata": {},
   "outputs": [],
   "source": [
    "num_of_tokens = len(vocab)\n",
    "dim_model = 12\n",
    "num_heads = 4\n",
    "num_encoder_layers = 2\n",
    "num_decoder_layers = 1\n",
    "dropout_p = 0.1\n"
   ]
  },
  {
   "cell_type": "code",
   "execution_count": null,
   "metadata": {},
   "outputs": [],
   "source": [
    "# Learning rate and batch size experiment\n",
    "num_epochs = 512\n",
    "batch_size = 1024\n",
    "\n",
    "lrexp = torch.linspace(-3,0.01,num_epochs, requires_grad=False)\n",
    "lrs_val = 10**lrexp\n",
    "\n",
    "lri = []\n",
    "lossi = []"
   ]
  },
  {
   "cell_type": "code",
   "execution_count": null,
   "metadata": {},
   "outputs": [],
   "source": [
    "# Initialize network, loss and optimizer\n",
    "loss_function = nn.CrossEntropyLoss()\n",
    "model = Transformer(num_of_tokens, dim_model, num_heads, num_encoder_layers, num_decoder_layers, dropout_p)\n",
    "optimizer = optim.SGD(model.parameters(), lr=lrs_val[0])"
   ]
  },
  {
   "cell_type": "code",
   "execution_count": null,
   "metadata": {},
   "outputs": [],
   "source": [
    "# Training loop with mini-batches and lr sweep\n",
    "for epoch in range(num_epochs):\n",
    "\n",
    "    ## Set learning rate\n",
    "    for g in optimizer.param_groups:\n",
    "        g['lr'] = lrs_val[epoch]\n",
    "\n",
    "    ix = torch.randint(0, Xtr.shape[0], (batch_size,))\n",
    "\n",
    "    inputs = Xtr[ix]\n",
    "    labels = Ytr[ix]\n",
    "\n",
    "    # Forward pass\n",
    "    outputs = model(inputs, labels)\n",
    "    loss = loss_function(outputs, labels)\n",
    "\n",
    "    # Backward pass and optimization\n",
    "    optimizer.zero_grad()\n",
    "    loss.backward()\n",
    "    optimizer.step()\n",
    "\n",
    "    lri.append(lrs_val[epoch])\n",
    "    lossi.append(loss.item())"
   ]
  },
  {
   "cell_type": "code",
   "execution_count": null,
   "metadata": {},
   "outputs": [],
   "source": []
  }
 ],
 "metadata": {
  "kernelspec": {
   "display_name": "Python 3",
   "language": "python",
   "name": "python3"
  },
  "language_info": {
   "codemirror_mode": {
    "name": "ipython",
    "version": 3
   },
   "file_extension": ".py",
   "mimetype": "text/x-python",
   "name": "python",
   "nbconvert_exporter": "python",
   "pygments_lexer": "ipython3",
   "version": "3.11.7"
  }
 },
 "nbformat": 4,
 "nbformat_minor": 2
}
