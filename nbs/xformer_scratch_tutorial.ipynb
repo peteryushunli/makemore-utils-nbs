{
 "cells": [
  {
   "cell_type": "markdown",
   "metadata": {},
   "source": [
    "# Import libraries"
   ]
  },
  {
   "cell_type": "code",
   "execution_count": 1,
   "metadata": {},
   "outputs": [],
   "source": [
    "%load_ext autoreload\n",
    "%autoreload 2\n",
    "import sys\n",
    "sys.path.append('/home/shwetank/code/makemore-utils-nbs')\n",
    "from utils import create_dataset, evaluate_loss, generate\n",
    "from torch.optim import Adam\n",
    "import random\n",
    "from models import Xformer_Scratch as Xformer\n",
    "from sklearn.manifold import TSNE\n",
    "import numpy as np\n",
    "import torch\n",
    "import math"
   ]
  },
  {
   "cell_type": "markdown",
   "metadata": {},
   "source": [
    "# Check if accelerator is available on your system "
   ]
  },
  {
   "cell_type": "code",
   "execution_count": 2,
   "metadata": {},
   "outputs": [
    {
     "name": "stdout",
     "output_type": "stream",
     "text": [
      "Device selected: cuda\n"
     ]
    }
   ],
   "source": [
    "# Setup device - check if accelerator is available\n",
    "# Check if CUDA is available\n",
    "if torch.cuda.is_available():\n",
    "    device = torch.device(\"cuda\")\n",
    "else:\n",
    "    # Check if MPS is available\n",
    "    if torch.backends.mps.is_available():\n",
    "        device = torch.device(\"mps\")\n",
    "    else:\n",
    "        # Fall back to CPU\n",
    "        device = torch.device(\"cpu\")\n",
    "\n",
    "print(\"Device selected:\", device)"
   ]
  },
  {
   "cell_type": "markdown",
   "metadata": {},
   "source": [
    "# Read the data and create training and validation sets"
   ]
  },
  {
   "cell_type": "code",
   "execution_count": 3,
   "metadata": {},
   "outputs": [
    {
     "name": "stdout",
     "output_type": "stream",
     "text": [
      "['.yuheng.', '.diondre.', '.xavien.', '.jori.', '.juanluis.']\n",
      "['.mustafa.', '.reuben.', '.kahlel.', '.balian.', '.izael.']\n"
     ]
    }
   ],
   "source": [
    "## Read file and create training and validation sets\n",
    "names, vocab, max_length = create_dataset('../names.txt')\n",
    "# print(len(names), vocab, max_length)\n",
    "seed_value = 42\n",
    "random.seed(seed_value)\n",
    "n1 = int(0.9*len(names))\n",
    "\n",
    "## Add stop token\n",
    "names = ['.' + n + '.' for n in names]\n",
    "\n",
    "## Check that dataset is shuffled\n",
    "random.shuffle(names)\n",
    "# print(names[0:5], names_ss[0:5]) \n",
    "train_data = names[:n1]\n",
    "val_data = names[n1:]\n",
    "\n",
    "print(train_data[0:5])\n",
    "print(val_data[0:5])"
   ]
  },
  {
   "cell_type": "markdown",
   "metadata": {},
   "source": [
    "# Create a character level tokenizer - simplest version of what is possible"
   ]
  },
  {
   "cell_type": "code",
   "execution_count": 4,
   "metadata": {},
   "outputs": [
    {
     "name": "stdout",
     "output_type": "stream",
     "text": [
      "{1: 'a', 2: 'b', 3: 'c', 4: 'd', 5: 'e', 6: 'f', 7: 'g', 8: 'h', 9: 'i', 10: 'j', 11: 'k', 12: 'l', 13: 'm', 14: 'n', 15: 'o', 16: 'p', 17: 'q', 18: 'r', 19: 's', 20: 't', 21: 'u', 22: 'v', 23: 'w', 24: 'x', 25: 'y', 26: 'z', 0: '.'}\n",
      "{'a': 1, 'b': 2, 'c': 3, 'd': 4, 'e': 5, 'f': 6, 'g': 7, 'h': 8, 'i': 9, 'j': 10, 'k': 11, 'l': 12, 'm': 13, 'n': 14, 'o': 15, 'p': 16, 'q': 17, 'r': 18, 's': 19, 't': 20, 'u': 21, 'v': 22, 'w': 23, 'x': 24, 'y': 25, 'z': 26, '.': 0}\n"
     ]
    }
   ],
   "source": [
    "# Create functions to encode and decode the string data to torch tensor and back\n",
    "stoi = {s: i+1 for i, s in enumerate(vocab)} \n",
    "stoi['.'] = 0\n",
    "itos = {i:s for s,i in stoi.items()}\n",
    "print(itos)\n",
    "print(stoi)"
   ]
  },
  {
   "cell_type": "code",
   "execution_count": 5,
   "metadata": {},
   "outputs": [],
   "source": [
    "def encode(text_batch: list) -> list:\n",
    "    tokens = []\n",
    "    for ridx, row in enumerate(text_batch):\n",
    "        # Convert row to indices, with padding or truncation as necessary\n",
    "        row_indices = [stoi[r] for r in row][:max_length]\n",
    "        tokens.append(row_indices)\n",
    "    \n",
    "    return tokens\n",
    "\n",
    "def decode(token_batch: list) -> list:\n",
    "    text_batch = []\n",
    "    for row in token_batch:\n",
    "        text_batch.append(''.join(itos[r] for r in row))\n",
    "    \n",
    "    return text_batch"
   ]
  },
  {
   "cell_type": "code",
   "execution_count": 6,
   "metadata": {},
   "outputs": [
    {
     "name": "stdout",
     "output_type": "stream",
     "text": [
      "['.yuheng.', '.diondre.', '.xavien.', '.jori.']\n",
      "[[0, 25, 21, 8, 5, 14, 7, 0], [0, 4, 9, 15, 14, 4, 18, 5, 0], [0, 24, 1, 22, 9, 5, 14, 0], [0, 10, 15, 18, 9, 0]]\n",
      "['.yuheng.', '.diondre.', '.xavien.', '.jori.']\n"
     ]
    }
   ],
   "source": [
    "## Check encoding and decoding\n",
    "batch_size = 4\n",
    "train_batch = train_data[:batch_size]\n",
    "print(train_batch)\n",
    "print(encode(train_batch))\n",
    "print(decode(encode(train_batch)))"
   ]
  },
  {
   "cell_type": "code",
   "execution_count": 7,
   "metadata": {},
   "outputs": [],
   "source": [
    "## Tokenize the train and val datasets and covert them to token indices\n",
    "encoded_train_data = encode(train_data)\n",
    "encoded_val_data = encode(val_data)"
   ]
  },
  {
   "cell_type": "markdown",
   "metadata": {},
   "source": [
    "# Create a model and run a forward pass"
   ]
  },
  {
   "cell_type": "code",
   "execution_count": 8,
   "metadata": {},
   "outputs": [],
   "source": [
    "## Function to create a batch\n",
    "def get_batch(data, max_encoded_length = max_length + 2,batch_size=4):\n",
    "    x = torch.zeros(batch_size, max_encoded_length, dtype=torch.long)\n",
    "    y = torch.zeros(batch_size, max_encoded_length, dtype=torch.long)\n",
    "    # print(data)\n",
    "    row_nums = torch.randint(len(data), size=(batch_size,))\n",
    "    for i,n in enumerate(row_nums):\n",
    "        row_len = len(data[n])\n",
    "        x[i,1:1+row_len] = torch.tensor(data[n])\n",
    "        y[i,:row_len] = torch.tensor(data[n])\n",
    "        y[i,row_len:] = -1\n",
    "\n",
    "    x = x[:,1:]\n",
    "    y = y[:,1:]\n",
    "    return x.to(device),y.to(device)"
   ]
  },
  {
   "cell_type": "code",
   "execution_count": 9,
   "metadata": {},
   "outputs": [
    {
     "name": "stdout",
     "output_type": "stream",
     "text": [
      "tensor([[ 0, 11,  1,  9, 12, 15, 14,  9,  0,  0,  0,  0,  0,  0,  0,  0],\n",
      "        [ 0, 11,  1, 13,  2,  5, 18,  0,  0,  0,  0,  0,  0,  0,  0,  0],\n",
      "        [ 0, 10,  1,  8, 13,  1, 18,  0,  0,  0,  0,  0,  0,  0,  0,  0],\n",
      "        [ 0, 12,  9, 12,  9,  5,  0,  0,  0,  0,  0,  0,  0,  0,  0,  0]],\n",
      "       device='cuda:0')\n",
      "tensor([[11,  1,  9, 12, 15, 14,  9,  0, -1, -1, -1, -1, -1, -1, -1, -1],\n",
      "        [11,  1, 13,  2,  5, 18,  0, -1, -1, -1, -1, -1, -1, -1, -1, -1],\n",
      "        [10,  1,  8, 13,  1, 18,  0, -1, -1, -1, -1, -1, -1, -1, -1, -1],\n",
      "        [12,  9, 12,  9,  5,  0, -1, -1, -1, -1, -1, -1, -1, -1, -1, -1]],\n",
      "       device='cuda:0')\n",
      "torch.Size([4, 16]) torch.Size([4, 16])\n"
     ]
    }
   ],
   "source": [
    "## Print out a batch and see how it looks\n",
    "x,y  = get_batch(encoded_train_data)\n",
    "print(x)\n",
    "print(y)\n",
    "print(x.shape,y.shape)"
   ]
  },
  {
   "cell_type": "code",
   "execution_count": 10,
   "metadata": {},
   "outputs": [],
   "source": [
    "## Hyperparameters\n",
    "batch_size = 64\n",
    "emb_dim = 384\n",
    "num_heads = 6\n",
    "dropout = 0.2"
   ]
  },
  {
   "cell_type": "code",
   "execution_count": 11,
   "metadata": {},
   "outputs": [
    {
     "name": "stdout",
     "output_type": "stream",
     "text": [
      "Total parameters: 10672539\n",
      "Measured loss: 3.435683250427246\n",
      "Expected loss assuming uniform: 3.258096538021482\n"
     ]
    }
   ],
   "source": [
    "## Run a forward pass\n",
    "vocab_size = len(vocab) + 1 # +1 for '.' stop character\n",
    "block_length = max_length + 1\n",
    "model = Xformer(emb_dim, vocab_size, num_heads, block_length, dropout).to(device)\n",
    "total_params = sum(p.numel() for p in model.parameters())\n",
    "print(\"Total parameters:\", total_params)\n",
    "xb, yb = get_batch(encoded_train_data,batch_size=batch_size)\n",
    "# print(xb.shape, yb.shape)\n",
    "# print(xb)\n",
    "# print(yb)\n",
    "logits, loss = model(xb,yb)\n",
    "print('Measured loss:',loss.item())\n",
    "expected_loss = -math.log(1/26.)\n",
    "print('Expected loss assuming uniform:', expected_loss)"
   ]
  },
  {
   "cell_type": "markdown",
   "metadata": {},
   "source": [
    "# Choose a reasonable learning rate to train your model"
   ]
  },
  {
   "cell_type": "code",
   "execution_count": 12,
   "metadata": {},
   "outputs": [],
   "source": [
    "# Function to do a learning rate sweep\n",
    "def get_lr_loss(model, optimizer, dataset, batch_size, num_epochs, device, lr_start_exp=-3, lr_end_exp=0.5):\n",
    "\n",
    "    lrexp = torch.linspace(lr_start_exp, lr_end_exp, num_epochs, requires_grad=False)\n",
    "    lrs_val = 10**lrexp\n",
    "\n",
    "    lri = []\n",
    "    lossi = []\n",
    "    # Training loop with mini-batches and lr sweep\n",
    "    for epoch in range(num_epochs):\n",
    "\n",
    "        ## Set learning rate\n",
    "        for g in optimizer.param_groups:\n",
    "            g['lr'] = lrs_val[epoch]\n",
    "\n",
    "        xb, yb = get_batch(dataset, batch_size=256)\n",
    "\n",
    "\n",
    "        # Forward pass\n",
    "        _, loss = model(xb, yb)\n",
    "        lri.append(lrs_val[epoch])\n",
    "        lossi.append(loss.item())\n",
    "\n",
    "        # Backward pass and optimization\n",
    "        optimizer.zero_grad()\n",
    "        loss.backward()\n",
    "        optimizer.step()\n",
    "\n",
    "    return lri, lossi"
   ]
  },
  {
   "cell_type": "code",
   "execution_count": 13,
   "metadata": {},
   "outputs": [],
   "source": [
    "# # Run the learning rate sweep and plot the results\n",
    "# import matplotlib.pyplot as plt\n",
    "# num_epochs = 100\n",
    "# batch_size = 128\n",
    "# optimizer = Adam(model.parameters())\n",
    "# lri, lossi =  get_lr_loss(model, optimizer, encoded_train_data, batch_size, num_epochs, device, -4, -1)\n",
    "# plt.plot(lri, lossi)\n",
    "# # Add labels to the x-axis and y-axis\n",
    "# plt.xlabel('LR (Learning Rate)')\n",
    "# plt.ylabel('Loss')"
   ]
  },
  {
   "cell_type": "markdown",
   "metadata": {},
   "source": [
    "# Run a training loop"
   ]
  },
  {
   "cell_type": "code",
   "execution_count": 14,
   "metadata": {},
   "outputs": [],
   "source": [
    "## Initialize loss matrices and batch size\n",
    "tr_loss = []\n",
    "val_loss = []\n",
    "tr_loss_raw = []\n",
    "batch_size = 128"
   ]
  },
  {
   "cell_type": "code",
   "execution_count": 17,
   "metadata": {},
   "outputs": [
    {
     "name": "stdout",
     "output_type": "stream",
     "text": [
      "0  --> train loss:  1.945632815361023 validation loss:  2.10854172706604 single shot loss: 1.9808601140975952\n",
      "100  --> train loss:  1.945947527885437 validation loss:  1.9983844757080078 single shot loss: 2.004608392715454\n",
      "200  --> train loss:  1.8628575801849365 validation loss:  1.9796627759933472 single shot loss: 1.926040768623352\n",
      "300  --> train loss:  1.9263055324554443 validation loss:  1.950520396232605 single shot loss: 1.9728144407272339\n",
      "400  --> train loss:  1.9845973253250122 validation loss:  2.0428688526153564 single shot loss: 2.0415403842926025\n",
      "500  --> train loss:  1.9225943088531494 validation loss:  2.0499966144561768 single shot loss: 1.9704073667526245\n",
      "600  --> train loss:  1.9672107696533203 validation loss:  2.043937921524048 single shot loss: 2.017951488494873\n",
      "700  --> train loss:  1.8700963258743286 validation loss:  1.9983110427856445 single shot loss: 1.9203630685806274\n",
      "800  --> train loss:  1.950236439704895 validation loss:  1.98252272605896 single shot loss: 1.9903907775878906\n",
      "900  --> train loss:  1.9168779850006104 validation loss:  1.9602404832839966 single shot loss: 1.9631741046905518\n"
     ]
    }
   ],
   "source": [
    "## Initialize training parameters\n",
    "lr = 1e-5\n",
    "optimizer = Adam(model.parameters(), lr=lr)\n",
    "n_epochs = 1000\n",
    "\n",
    "for steps in range(n_epochs):\n",
    "    xtr, ytr = get_batch(encoded_train_data, batch_size=batch_size)\n",
    "    xval, yval = get_batch(encoded_val_data, batch_size=batch_size)\n",
    "    eval_dataset = {'train': (xtr,ytr), 'val': (xval, yval)}\n",
    "    logits, loss = model(xtr,ytr)\n",
    "    optimizer.zero_grad(set_to_none=True)\n",
    "    loss.backward()\n",
    "    optimizer.step()\n",
    "    tr_lossi, val_lossi = evaluate_loss(model, eval_dataset, num_batches=8)\n",
    "    tr_loss.append(tr_lossi)\n",
    "    val_loss.append(val_lossi)\n",
    "    tr_loss_raw.append(loss.item())\n",
    "\n",
    "    ## Print losses\n",
    "    if steps % 100 == 0:\n",
    "        print(steps, ' --> train loss: ', tr_lossi, 'validation loss: ', val_lossi, 'single shot loss:', loss.item())"
   ]
  },
  {
   "cell_type": "code",
   "execution_count": 18,
   "metadata": {},
   "outputs": [
    {
     "name": "stdout",
     "output_type": "stream",
     "text": [
      "training loss:  1.9335\n",
      "validation loss:  1.9895\n"
     ]
    },
    {
     "data": {
      "image/png": "[encoded data removed]",
      "text/plain": [
       "<Figure size 640x480 with 1 Axes>"
      ]
     },
     "metadata": {},
     "output_type": "display_data"
    }
   ],
   "source": [
    "## Plot loss \n",
    "import matplotlib.pyplot as plt\n",
    "\n",
    "plt.plot(tr_loss)\n",
    "plt.plot(val_loss)\n",
    "\n",
    "print('training loss: ', round(torch.mean(torch.tensor(tr_loss[-100:])).item(),4)), \n",
    "print('validation loss: ', round((torch.mean(torch.tensor(val_loss[-100:]))).item(),4))"
   ]
  },
  {
   "cell_type": "markdown",
   "metadata": {},
   "source": [
    "# Evaluation your results"
   ]
  },
  {
   "cell_type": "code",
   "execution_count": 19,
   "metadata": {},
   "outputs": [],
   "source": [
    "## Function to generate tokens and decode them\n",
    "def print_samples(model, max_new_tokens, device, num=8):\n",
    "    \"\"\" samples from the model and pretty prints the decoded samples \"\"\"\n",
    "    X_init = torch.zeros((num, 1), dtype=torch.long).to(device)\n",
    "    X_samp = generate(model, X_init, max_new_tokens, device)[:,1:].tolist()\n",
    "    sample_list = []\n",
    "    for row in X_samp:\n",
    "        crop_index = row.index(0) if 0 in row else len(row)\n",
    "        row = row[:crop_index]\n",
    "        sample_list.append(row)\n",
    "\n",
    "    print(decode(sample_list))\n",
    "    "
   ]
  },
  {
   "cell_type": "code",
   "execution_count": 21,
   "metadata": {},
   "outputs": [
    {
     "name": "stdout",
     "output_type": "stream",
     "text": [
      "['traydan', 'alvia', 'leeigh', 'deanna', 'tianna', 'tainna', 'takai', 'lasser']\n"
     ]
    }
   ],
   "source": [
    "## Pretty print the samples\n",
    "print_samples(model, max_length, device, 8)"
   ]
  },
  {
   "cell_type": "code",
   "execution_count": 22,
   "metadata": {},
   "outputs": [
    {
     "data": {
      "image/png": "[encoded data removed]",
      "text/plain": [
       "<Figure size 800x800 with 1 Axes>"
      ]
     },
     "metadata": {},
     "output_type": "display_data"
    }
   ],
   "source": [
    "## Plot tsne or pca for embeddings\n",
    "embeddings_matrix = model.token_embedding.weight.data.cpu().numpy()\n",
    "\n",
    "# Create vectors for ticklabels\n",
    "ticklabels = list(itos.values())\n",
    "ticklabels.insert(0,'stop')\n",
    "x_ticklabel_vec = np.arange(len(ticklabels))\n",
    "y_ticklabel_vec = np.arange(len(ticklabels))\n",
    "# print(ticklabels)\n",
    "\n",
    "# t-SNE example:\n",
    "tsne = TSNE(n_components=2, perplexity=5)\n",
    "reduced_embeddings = tsne.fit_transform(embeddings_matrix)\n",
    "\n",
    "# visualize dimensions 0 and 1 of the embedding matrix for all characters\n",
    "plt.figure(figsize=(8,8))\n",
    "plt.scatter(reduced_embeddings[:,0].data, reduced_embeddings[:,1].data, s=200)\n",
    "for i in range(embeddings_matrix.shape[0]):\n",
    "    plt.text(reduced_embeddings[i,0].item(), reduced_embeddings[i,1].item(), ticklabels[i], ha=\"center\", va=\"center\", color='white')\n",
    "plt.grid('minor')"
   ]
  },
  {
   "cell_type": "code",
   "execution_count": null,
   "metadata": {},
   "outputs": [],
   "source": []
  }
 ],
 "metadata": {
  "kernelspec": {
   "display_name": "Python 3",
   "language": "python",
   "name": "python3"
  },
  "language_info": {
   "codemirror_mode": {
    "name": "ipython",
    "version": 3
   },
   "file_extension": ".py",
   "mimetype": "text/x-python",
   "name": "python",
   "nbconvert_exporter": "python",
   "pygments_lexer": "ipython3",
   "version": "3.11.8"
  }
 },
 "nbformat": 4,
 "nbformat_minor": 2
}
