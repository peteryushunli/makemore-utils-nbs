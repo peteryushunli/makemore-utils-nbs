{
 "cells": [
  {
   "cell_type": "code",
   "execution_count": 1,
   "metadata": {},
   "outputs": [],
   "source": [
    "%load_ext autoreload\n",
    "%autoreload 2\n",
    "import sys\n",
    "sys.path.append('/Users/shwetank/code/makemore-utils-nbs')\n",
    "from utils import create_dataset, CharDataset, evaluate_loss, print_samples, get_lr_loss\n",
    "from torch.utils.data import DataLoader\n",
    "import torch.nn as nn\n",
    "import torch.nn.functional as F\n",
    "from torch.optim import Adam\n",
    "import random\n",
    "from sklearn.manifold import TSNE\n",
    "import numpy as np\n",
    "import torch"
   ]
  },
  {
   "cell_type": "code",
   "execution_count": 2,
   "metadata": {},
   "outputs": [],
   "source": [
    "## Device toggle\n",
    "device = torch.device(\"mps\")\n",
    "# device = torch.device(\"cpu\")"
   ]
  },
  {
   "cell_type": "code",
   "execution_count": 3,
   "metadata": {},
   "outputs": [],
   "source": [
    "# Read file and create training and test sets\n",
    "names, vocab, max_length = create_dataset('../names.txt')\n",
    "vocab_size = len(vocab) + 1 # Blank token\n",
    "block_length = max_length + 1\n",
    "# print(len(names), vocab, max_length)\n",
    "seed_value = 42\n",
    "random.seed(seed_value)\n",
    "n1 = int(0.9*len(names))\n",
    "random.shuffle(names)\n",
    "# print(names[0:5], names_ss[0:5]) # check that dataset is shuffled\n",
    "train_data = CharDataset(names[:n1], vocab=vocab, max_length=max_length)\n",
    "test_data = CharDataset(names[n1:], vocab=vocab, max_length=max_length)\n"
   ]
  },
  {
   "cell_type": "code",
   "execution_count": 4,
   "metadata": {},
   "outputs": [],
   "source": [
    "# ## Hyperparameters\n",
    "emb_dim = 64\n",
    "head_size = 128\n",
    "dropout = 0.2"
   ]
  },
  {
   "cell_type": "code",
   "execution_count": 7,
   "metadata": {},
   "outputs": [],
   "source": [
    "class  MultiHeadAttention(nn.Module):\n",
    "    def __init__(self, num_heads, emb_dim):\n",
    "        super().__init__()\n",
    "        self.heads = nn.MultiheadAttention(emb_dim, num_heads, dropout=dropout, bias=False)\n",
    "\n",
    "    def forward(self, x):\n",
    "        x = self.heads(x,x,x)\n",
    "        return x"
   ]
  },
  {
   "cell_type": "code",
   "execution_count": 8,
   "metadata": {},
   "outputs": [],
   "source": [
    "class Feedforward(nn.Module):\n",
    "    def __init__(self, emb_dim):\n",
    "        super().__init__()\n",
    "        self.ff = nn.Sequential(\n",
    "            nn.Linear(emb_dim, 4*emb_dim),\n",
    "            nn.ReLU(),\n",
    "            nn.Linear(4*emb_dim, emb_dim),\n",
    "            nn.Dropout(dropout)\n",
    "        )\n",
    "\n",
    "    def forward(self,x):\n",
    "        return self.ff(x)"
   ]
  },
  {
   "cell_type": "code",
   "execution_count": 9,
   "metadata": {},
   "outputs": [],
   "source": [
    "class Block(nn.Module):\n",
    "    def __init__(self, emb_dim, num_heads):\n",
    "        super().__init__()\n",
    "        self.head_size = emb_dim // num_heads\n",
    "        self.sa_head = MultiHeadAttention(self.head_size, num_heads, emb_dim)\n",
    "        self.ff = Feedforward(emb_dim)\n",
    "        self.ln1 = nn.LayerNorm(emb_dim)\n",
    "        self.ln2 = nn.LayerNorm(emb_dim)\n",
    "\n",
    "    def forward(self, x, targets=None):\n",
    "        sa_out, sq_wte = self.sa_head(self.ln1(x))\n",
    "        x = x + sa_out\n",
    "        x = x + self.ff(self.ln2(x))\n",
    "        return x"
   ]
  },
  {
   "cell_type": "code",
   "execution_count": 10,
   "metadata": {},
   "outputs": [],
   "source": [
    "class Xformer(nn.Module):\n",
    "    def __init__(self, emb_dim, num_heads):\n",
    "        super().__init__()\n",
    "        self.token_embedding = nn.Embedding(vocab_size + 1, emb_dim)\n",
    "        self.pos_embedding = nn.Embedding(vocab_size + 1, emb_dim)\n",
    "        # self.sa_head = MultiHeadAttention(emb_dim//4, 4, emb_dim, block_length)\n",
    "        # self.ff = Feedforward(emb_dim)\n",
    "        self.blocks = nn.Sequential(\n",
    "            Block(emb_dim, num_heads=4), \n",
    "            Block(emb_dim, num_heads=4),\n",
    "            Block(emb_dim, num_heads=4),\n",
    "            nn.LayerNorm(emb_dim)\n",
    "        )\n",
    "        self.lm_head = nn.Linear(emb_dim, vocab_size)\n",
    "\n",
    "    def forward(self, x, targets=None):\n",
    "        tok_emb = self.token_embedding(x)\n",
    "        pos_emb = self.pos_embedding(x)\n",
    "        x = tok_emb + pos_emb # B, T, emb_dim\n",
    "        # x = self.sa_head(x) # B, T, head_size\n",
    "        # x =  self.ff(x)\n",
    "        x = self.blocks(x)\n",
    "        logits = self.lm_head(x) # B, T, vocab_size\n",
    "\n",
    "        # if we are given some desired targets also calculate the loss\n",
    "        loss = None\n",
    "        if targets is not None:\n",
    "            # print(logits.view(-1, logits.size(-1)).shape, targets.view(-1).shape)\n",
    "            loss = F.cross_entropy(logits.view(-1, logits.size(-1)), targets.view(-1), ignore_index=-1)\n",
    "\n",
    "        return(logits,loss)"
   ]
  },
  {
   "cell_type": "code",
   "execution_count": 11,
   "metadata": {},
   "outputs": [
    {
     "name": "stdout",
     "output_type": "stream",
     "text": [
      "tensor(3.5334, device='mps:0', grad_fn=<NllLossBackward0>)\n"
     ]
    }
   ],
   "source": [
    "# # Test run on a batch size of 1 for debug\n",
    "batch_size = 1\n",
    "train_dataloader = DataLoader(train_data, batch_size=batch_size, shuffle=True)\n",
    "model = Xformer(emb_dim, head_size).to(device)\n",
    "optimizer = Adam(model.parameters(), lr=0.01)\n",
    "criterion = nn.CrossEntropyLoss()\n",
    "xb, yb = next(iter(train_dataloader))\n",
    "xb = xb.to(device)\n",
    "yb = yb.to(device)\n",
    "# print(xb.shape, yb.shape)\n",
    "logits, loss = model(xb,yb)\n",
    "print(loss)"
   ]
  },
  {
   "cell_type": "code",
   "execution_count": 12,
   "metadata": {},
   "outputs": [],
   "source": [
    "# Set up optimizer and model\n",
    "batch_size = 512\n",
    "train_dataloader = DataLoader(train_data, batch_size=batch_size, shuffle=True)\n",
    "model = Xformer(emb_dim, head_size).to(device)\n",
    "optimizer = Adam(model.parameters(), lr=0.001)"
   ]
  },
  {
   "cell_type": "code",
   "execution_count": 13,
   "metadata": {},
   "outputs": [
    {
     "name": "stdout",
     "output_type": "stream",
     "text": [
      "tensor(3.5256, device='mps:0', grad_fn=<NllLossBackward0>)\n"
     ]
    }
   ],
   "source": [
    "xb, yb = next(iter(train_dataloader))\n",
    "xb = xb.to(device)\n",
    "yb = yb.to(device)\n",
    "logits, loss = model(xb,yb)\n",
    "print(loss)"
   ]
  },
  {
   "cell_type": "code",
   "execution_count": 14,
   "metadata": {},
   "outputs": [],
   "source": [
    "# ## Optimal lr sweep\n",
    "# import matplotlib.pyplot as plt\n",
    "# lri, lossi =  get_lr_loss(model, optimizer, train_dataloader, batch_size, 500, -2, -1.5)\n",
    "# plt.plot(lri, lossi)\n",
    "# # Add labels to the x-axis and y-axis\n",
    "# plt.xlabel('LR (Learning Rate)')\n",
    "# plt.ylabel('Loss')"
   ]
  },
  {
   "cell_type": "code",
   "execution_count": 15,
   "metadata": {},
   "outputs": [],
   "source": [
    "# Training loop - Initialized in separate loop so that it can be re run without reinitialization that will wipe things out\n",
    "train_dataloader = DataLoader(train_data, batch_size=batch_size, shuffle=True)\n",
    "test_dataloader = DataLoader(test_data, batch_size=batch_size, shuffle=True)\n",
    "\n",
    "tr_loss = []\n",
    "te_loss = []"
   ]
  },
  {
   "cell_type": "code",
   "execution_count": 16,
   "metadata": {},
   "outputs": [],
   "source": [
    "# Training loop \n",
    "lr = 0.001\n",
    "optimizer = Adam(model.parameters(), lr=lr)\n",
    "n_epochs = 1000\n",
    "for steps in range(n_epochs):\n",
    "    xb, yb = next(iter(train_dataloader))\n",
    "    xb = xb.to(device)\n",
    "    yb = yb.to(device)\n",
    "    logits, loss = model(xb,yb)\n",
    "    optimizer.zero_grad(set_to_none=True)\n",
    "    loss.backward()\n",
    "    optimizer.step()\n",
    "    tr_lossi, te_lossi = evaluate_loss(model, train_dataloader, test_dataloader, device, num_batches=10)\n",
    "    tr_loss.append(tr_lossi)\n",
    "    te_loss.append(te_lossi)\n",
    "    # print(loss.item())\n",
    "\n",
    "    # if steps % 99 == 0:\n",
    "    #     print('ltr: ', ltr, 'lte: ', lte, 'single shot loss:', loss.item())"
   ]
  },
  {
   "cell_type": "code",
   "execution_count": 17,
   "metadata": {},
   "outputs": [
    {
     "data": {
      "image/png": "[encoded data removed]",
      "text/plain": [
       "<Figure size 640x480 with 1 Axes>"
      ]
     },
     "metadata": {},
     "output_type": "display_data"
    },
    {
     "name": "stdout",
     "output_type": "stream",
     "text": [
      "training loss:  2.2464\n",
      "validation loss:  2.2511\n"
     ]
    }
   ],
   "source": [
    "## Plot loss \n",
    "import matplotlib.pyplot as plt\n",
    "\n",
    "plt.plot(tr_loss[10:], label='Training Loss')\n",
    "plt.plot(te_loss[10:], label='Testing Loss')\n",
    "plt.legend()\n",
    "plt.show()\n",
    "print('training loss: ', round(torch.mean(torch.tensor(tr_loss[-100:])).item(),4)), \n",
    "print('validation loss: ', round((torch.mean(torch.tensor(te_loss[-100:]))).item(),4))"
   ]
  },
  {
   "cell_type": "code",
   "execution_count": 18,
   "metadata": {},
   "outputs": [
    {
     "name": "stdout",
     "output_type": "stream",
     "text": [
      "lahan\n",
      "zhabe\n",
      "thy\n",
      "die\n",
      "lunnel\n",
      "arili\n",
      "kara\n",
      "riehan\n",
      "qohie\n",
      "yu\n",
      "deem\n",
      "wiar\n",
      "hule\n",
      "zui\n",
      "evldy\n",
      "gaynlelis\n",
      "jilyndown\n",
      "elahg\n",
      "miseel\n",
      "can\n",
      "laie\n",
      "my\n",
      "caare\n",
      "name\n",
      "deslaw\n",
      "kmy\n",
      "letzah\n",
      "m\n",
      "ilano\n",
      "elen\n",
      "lyuwia\n",
      "kiaja\n"
     ]
    }
   ],
   "source": [
    "## Pretty print the samples\n",
    "print_samples(model, train_data, max_length, device, num=32)"
   ]
  },
  {
   "cell_type": "code",
   "execution_count": 19,
   "metadata": {},
   "outputs": [
    {
     "name": "stdout",
     "output_type": "stream",
     "text": [
      "['stop', 'a', 'b', 'c', 'd', 'e', 'f', 'g', 'h', 'i', 'j', 'k', 'l', 'm', 'n', 'o', 'p', 'q', 'r', 's', 't', 'u', 'v', 'w', 'x', 'y', 'z', 'blank']\n"
     ]
    },
    {
     "data": {
      "image/png": "[encoded data removed]",
      "text/plain": [
       "<Figure size 800x800 with 1 Axes>"
      ]
     },
     "metadata": {},
     "output_type": "display_data"
    }
   ],
   "source": [
    "## Plot tsne or pca for embeddings\n",
    "# t-SNE example:\n",
    "embeddings_matrix = model.token_embedding.weight.data.cpu().numpy()\n",
    "tsne = TSNE(n_components=2, perplexity=7)\n",
    "reduced_embeddings = tsne.fit_transform(embeddings_matrix)\n",
    "\n",
    "# Create vectors for ticklabels\n",
    "ticklabels = list(train_data.itos.values())\n",
    "ticklabels.insert(0,'stop')\n",
    "ticklabels.insert(27,'blank')\n",
    "x_ticklabel_vec = np.arange(len(ticklabels))\n",
    "y_ticklabel_vec = np.arange(len(ticklabels))\n",
    "print(ticklabels)\n",
    "\n",
    "# visualize dimensions 0 and 1 of the embedding matrix for all characters\n",
    "plt.figure(figsize=(8,8))\n",
    "plt.scatter(reduced_embeddings[:,0].data, reduced_embeddings[:,1].data, s=200)\n",
    "for i in range(embeddings_matrix.shape[0]):\n",
    "    plt.text(reduced_embeddings[i,0].item(), reduced_embeddings[i,1].item(), ticklabels[i], ha=\"center\", va=\"center\", color='white')\n",
    "plt.grid('minor')"
   ]
  },
  {
   "cell_type": "code",
   "execution_count": null,
   "metadata": {},
   "outputs": [],
   "source": []
  }
 ],
 "metadata": {
  "kernelspec": {
   "display_name": "Python 3",
   "language": "python",
   "name": "python3"
  },
  "language_info": {
   "codemirror_mode": {
    "name": "ipython",
    "version": 3
   },
   "file_extension": ".py",
   "mimetype": "text/x-python",
   "name": "python",
   "nbconvert_exporter": "python",
   "pygments_lexer": "ipython3",
   "version": "3.10.13"
  }
 },
 "nbformat": 4,
 "nbformat_minor": 2
}
