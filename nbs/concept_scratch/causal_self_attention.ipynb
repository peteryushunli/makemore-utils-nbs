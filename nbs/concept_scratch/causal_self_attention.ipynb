{
 "cells": [
  {
   "cell_type": "code",
   "execution_count": 1,
   "metadata": {},
   "outputs": [],
   "source": [
    "## Self attention head math\n",
    "import torch\n",
    "import torch.nn as nn\n",
    "from torch.nn import functional as F"
   ]
  },
  {
   "cell_type": "code",
   "execution_count": 2,
   "metadata": {},
   "outputs": [],
   "source": [
    "## Out inputs are B, T, C i.e. Batch, Time, Channel (Vocab size)\n",
    "B = 4\n",
    "T = 8 # Number of timesteps i.e. longest name makemore names -> 15\n",
    "C = 32 # Number of alphabets i.e. makemore -> 26\n",
    "\n",
    "x = torch.randn(B,T,C)"
   ]
  },
  {
   "cell_type": "code",
   "execution_count": 3,
   "metadata": {},
   "outputs": [],
   "source": [
    "## We need to initialize 3 parts to self attention head: Keys, Queries, Values\n",
    "# Keys are basically broadcast saying - I have this information i.e. I am consonant\n",
    "# Queries are broadcast saying - Who has information i.e. I need a vowel\n",
    "# Value is what information is passed from the key to the query\n",
    "# Seems like an extermely genric mechanism for information sharing\n",
    "# Unclear what defines how many heads should be used or what the head size should be. In Karpathy example its 16.\n",
    "\n",
    "head_size = 16\n",
    "key = nn.Linear(C, head_size, bias=False)\n",
    "query = nn.Linear(C, head_size, bias=False)\n",
    "value = nn.Linear(C, head_size, bias=False)"
   ]
  },
  {
   "cell_type": "code",
   "execution_count": 4,
   "metadata": {},
   "outputs": [],
   "source": [
    "## Initialize the vector\n",
    "k = key(x) # B,T,head_size\n",
    "q = query(x) # B,T,head_size\n",
    "v = value(x) # B,T,head_size"
   ]
  },
  {
   "cell_type": "code",
   "execution_count": 5,
   "metadata": {},
   "outputs": [],
   "source": [
    "## Get scaled self attention weights\n",
    "\n",
    "# Calculate wei\n",
    "wei = k @ torch.transpose(q, 1, 2) * head_size**-0.5 # B,T,T\n",
    "\n",
    "# Mask all the future tokens from commuicating i.e. make it causal \n",
    "# 1. Create lower triangular matrix and use it to mask wei\n",
    "ltmat = torch.tril(torch.ones(T,T))\n",
    "wei = torch.masked_fill(wei, ltmat == 0, float('-Inf'))\n",
    "# 2. Now do a softmax per row to make normalize to 1\n",
    "wei = F.softmax(wei,dim=-1)\n",
    "\n",
    "# Check that each row of every batch is normalized to 1\n",
    "# print(sum(wei[0, 0,:]))"
   ]
  },
  {
   "cell_type": "code",
   "execution_count": 6,
   "metadata": {},
   "outputs": [
    {
     "data": {
      "text/plain": [
       "torch.Size([4, 8, 16])"
      ]
     },
     "execution_count": 6,
     "metadata": {},
     "output_type": "execute_result"
    }
   ],
   "source": [
    "# Finally calculate output value of self attention block\n",
    "\n",
    "output = wei @ v # B, T, head_size\n",
    "output.shape"
   ]
  },
  {
   "cell_type": "code",
   "execution_count": null,
   "metadata": {},
   "outputs": [],
   "source": []
  }
 ],
 "metadata": {
  "kernelspec": {
   "display_name": "Python 3",
   "language": "python",
   "name": "python3"
  },
  "language_info": {
   "codemirror_mode": {
    "name": "ipython",
    "version": 3
   },
   "file_extension": ".py",
   "mimetype": "text/x-python",
   "name": "python",
   "nbconvert_exporter": "python",
   "pygments_lexer": "ipython3",
   "version": "3.10.13"
  }
 },
 "nbformat": 4,
 "nbformat_minor": 2
}
